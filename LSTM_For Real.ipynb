{
 "cells": [
  {
   "cell_type": "code",
   "execution_count": null,
   "metadata": {},
   "outputs": [],
   "source": [
    "import tensorflow as tf\n",
    "import numpy as np\n",
    "import matplotlib.pyplot as plt\n",
    "\n",
    "\n",
    "from tensorflow.keras.datasets import imdb\n",
    "from tensorflow.keras import preprocessing\n",
    "from tensorflow.keras.utils import to_categorical\n",
    "from tensorflow.keras import models, layers"
   ]
  },
  {
   "cell_type": "code",
   "execution_count": null,
   "metadata": {},
   "outputs": [],
   "source": [
    "vocabulary_size = 20000 # my unique words\n",
    "sequence_length = 90 # hyperparameter - we take 20 words \n",
    "\n",
    "(x_train, y_train), (x_test, y_test) = imdb.load_data(num_words=vocabulary_size)\n",
    "\n",
    "\n",
    "\n",
    "x_train = preprocessing.sequence.pad_sequences(x_train, maxlen=sequence_length)\n",
    "x_test = preprocessing.sequence.pad_sequences(x_train, maxlen=sequence_length)\n",
    "\n",
    "\n",
    "split_index = int(0.8 * len(x_train))\n",
    "imdb_train = tf.data.Dataset.from_tensor_slices(\n",
    "    (x_train[:split_index], y_train[:split_index])\n",
    "\n",
    ").cache()\n",
    "\n",
    "imdb_validate = tf.data.Dataset.from_tensor_slices(\n",
    "    (x_train[split_index:], y_train[split_index:])\n",
    "\n",
    ").cache()\n",
    "\n",
    "\n",
    "imdb_test = tf.data.Dataset.from_tensor_slices(\n",
    "    (x_test, y_test)\n",
    ").cache()"
   ]
  },
  {
   "cell_type": "code",
   "execution_count": null,
   "metadata": {},
   "outputs": [],
   "source": [
    "def plot_history(history):\n",
    "    plt.plot(history.history[\"loss\"], label=['loss'])\n",
    "    plt.plot(history.history[\"val_loss\"], label=['val_loss'])\n",
    "    plt.legend()\n",
    "    plt.show()\n",
    "    plt.close()\n",
    "    \n",
    "    \n",
    "    plt.plot(history.history[\"accuracy\"], label=['accuracy'])\n",
    "    plt.plot(history.history[\"val_accuracy\"], label=['val_accuracy'])\n",
    "    plt.legend()\n",
    "    plt.show()\n",
    "    plt.close()"
   ]
  },
  {
   "cell_type": "code",
   "execution_count": null,
   "metadata": {},
   "outputs": [],
   "source": []
  }
 ],
 "metadata": {
  "kernelspec": {
   "display_name": "dsr_kernel",
   "language": "python",
   "name": "dsr_kernel"
  },
  "language_info": {
   "codemirror_mode": {
    "name": "ipython",
    "version": 3
   },
   "file_extension": ".py",
   "mimetype": "text/x-python",
   "name": "python",
   "nbconvert_exporter": "python",
   "pygments_lexer": "ipython3",
   "version": "3.6.10"
  }
 },
 "nbformat": 4,
 "nbformat_minor": 4
}
