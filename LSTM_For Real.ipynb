{
 "cells": [
  {
   "cell_type": "code",
   "execution_count": 15,
   "metadata": {},
   "outputs": [],
   "source": [
    "import tensorflow as tf\n",
    "import numpy as np\n",
    "import matplotlib.pyplot as plt\n",
    "\n",
    "\n",
    "from tensorflow.keras.datasets import imdb\n",
    "from tensorflow.keras import preprocessing\n",
    "from tensorflow.keras.utils import to_categorical\n",
    "from tensorflow.keras import models, layers, regularizers"
   ]
  },
  {
   "cell_type": "code",
   "execution_count": 16,
   "metadata": {},
   "outputs": [],
   "source": [
    "vocabulary_size = 20000 # my unique words\n",
    "sequence_length = 90 # hyperparameter - we take 20 words \n",
    "\n",
    "(x_train, y_train), (x_test, y_test) = imdb.load_data(num_words=vocabulary_size)\n",
    "\n",
    "\n",
    "\n",
    "x_train = preprocessing.sequence.pad_sequences(x_train, maxlen=sequence_length)\n",
    "x_test = preprocessing.sequence.pad_sequences(x_train, maxlen=sequence_length)\n",
    "\n",
    "\n",
    "split_index = int(0.8 * len(x_train))\n",
    "imdb_train = tf.data.Dataset.from_tensor_slices(\n",
    "    (x_train[:split_index], y_train[:split_index])\n",
    "\n",
    ").cache()\n",
    "\n",
    "imdb_validate = tf.data.Dataset.from_tensor_slices(\n",
    "    (x_train[split_index:], y_train[split_index:])\n",
    "\n",
    ").cache()\n",
    "\n",
    "\n",
    "imdb_test = tf.data.Dataset.from_tensor_slices(\n",
    "    (x_test, y_test)\n",
    ").cache()"
   ]
  },
  {
   "cell_type": "code",
   "execution_count": 17,
   "metadata": {},
   "outputs": [
    {
     "name": "stdout",
     "output_type": "stream",
     "text": [
      "Model: \"sequential_7\"\n",
      "_________________________________________________________________\n",
      "Layer (type)                 Output Shape              Param #   \n",
      "=================================================================\n",
      "embedding_7 (Embedding)      (None, 90, 8)             160000    \n",
      "_________________________________________________________________\n",
      "bidirectional_2 (Bidirection (None, 64)                10496     \n",
      "_________________________________________________________________\n",
      "dense_4 (Dense)              (None, 1)                 65        \n",
      "=================================================================\n",
      "Total params: 170,561\n",
      "Trainable params: 170,561\n",
      "Non-trainable params: 0\n",
      "_________________________________________________________________\n",
      "Model: \"sequential_7\"\n",
      "_________________________________________________________________\n",
      "Layer (type)                 Output Shape              Param #   \n",
      "=================================================================\n",
      "embedding_7 (Embedding)      (None, 90, 8)             160000    \n",
      "_________________________________________________________________\n",
      "bidirectional_2 (Bidirection (None, 64)                10496     \n",
      "_________________________________________________________________\n",
      "dense_4 (Dense)              (None, 1)                 65        \n",
      "=================================================================\n",
      "Total params: 170,561\n",
      "Trainable params: 170,561\n",
      "Non-trainable params: 0\n",
      "_________________________________________________________________\n",
      "Epoch 1/5\n",
      "625/625 [==============================] - 22s 35ms/step - loss: 0.5101 - accuracy: 0.7467 - val_loss: 0.3937 - val_accuracy: 0.8328\n",
      "Epoch 2/5\n",
      "625/625 [==============================] - 18s 30ms/step - loss: 0.3073 - accuracy: 0.8835 - val_loss: 0.3755 - val_accuracy: 0.8470\n",
      "Epoch 3/5\n",
      "625/625 [==============================] - 20s 32ms/step - loss: 0.2268 - accuracy: 0.9282 - val_loss: 0.4426 - val_accuracy: 0.8222\n",
      "Epoch 4/5\n",
      "625/625 [==============================] - 20s 31ms/step - loss: 0.1799 - accuracy: 0.9474 - val_loss: 0.5258 - val_accuracy: 0.8204\n",
      "Epoch 5/5\n",
      "625/625 [==============================] - 21s 34ms/step - loss: 0.1348 - accuracy: 0.9654 - val_loss: 0.4304 - val_accuracy: 0.8212\n"
     ]
    }
   ],
   "source": [
    "embedding_size = 8\n",
    "\n",
    "model = models.Sequential()\n",
    "\n",
    "model.add(layers.Embedding(vocabulary_size, embedding_size, input_length=sequence_length))\n",
    "\n",
    "#option 1.\n",
    "#model.add(layers.LSTM(32))\n",
    "\n",
    "#option 2.\n",
    "#model.add(layers.LSTM(64, return_sequences=True))\n",
    "#model.add(layers.LSTM(32))\n",
    "\n",
    "#option 3.\n",
    "model.add(layers.Bidirectional(layers.LSTM(32)))\n",
    "\n",
    "model.add(layers.Dense(1, activation='sigmoid', kernel_regularizer=regularizers.l2(0.011)))\n",
    "\n",
    "model.summary()\n",
    "\n",
    "model.summary()\n",
    "\n",
    "model.compile(\n",
    "    optimizer=\"adam\",\n",
    "    loss=\"binary_crossentropy\",\n",
    "    metrics=[\"accuracy\"] \n",
    ")\n",
    "\n",
    "history = model.fit(\n",
    "    imdb_train.shuffle(10000).batch(32), # pipeline; batch - too high - memory will explode and overfitting; too low - slow\n",
    "    epochs=5,\n",
    "    validation_data=imdb_validate.batch(32)\n",
    ")"
   ]
  },
  {
   "cell_type": "code",
   "execution_count": 8,
   "metadata": {},
   "outputs": [],
   "source": [
    "def plot_history(history):\n",
    "    plt.plot(history.history[\"loss\"], label=['loss'])\n",
    "    plt.plot(history.history[\"val_loss\"], label=['val_loss'])\n",
    "    plt.legend()\n",
    "    plt.show()\n",
    "    plt.close()\n",
    "    \n",
    "    \n",
    "    plt.plot(history.history[\"accuracy\"], label=['accuracy'])\n",
    "    plt.plot(history.history[\"val_accuracy\"], label=['val_accuracy'])\n",
    "    plt.legend()\n",
    "    plt.show()\n",
    "    plt.close()"
   ]
  },
  {
   "cell_type": "code",
   "execution_count": 13,
   "metadata": {},
   "outputs": [
    {
     "data": {
      "image/png": "[encoded data removed]",
      "text/plain": [
       "<Figure size 432x288 with 1 Axes>"
      ]
     },
     "metadata": {
      "needs_background": "light"
     },
     "output_type": "display_data"
    },
    {
     "data": {
      "image/png": "[encoded data removed]",
      "text/plain": [
       "<Figure size 432x288 with 1 Axes>"
      ]
     },
     "metadata": {
      "needs_background": "light"
     },
     "output_type": "display_data"
    }
   ],
   "source": [
    "plot_history(history)"
   ]
  },
  {
   "cell_type": "code",
   "execution_count": null,
   "metadata": {},
   "outputs": [],
   "source": []
  }
 ],
 "metadata": {
  "kernelspec": {
   "display_name": "Python 3",
   "language": "python",
   "name": "python3"
  },
  "language_info": {
   "codemirror_mode": {
    "name": "ipython",
    "version": 3
   },
   "file_extension": ".py",
   "mimetype": "text/x-python",
   "name": "python",
   "nbconvert_exporter": "python",
   "pygments_lexer": "ipython3",
   "version": "3.8.5"
  }
 },
 "nbformat": 4,
 "nbformat_minor": 4
}
