{
 "cells": [
  {
   "cell_type": "code",
   "execution_count": 1,
   "metadata": {},
   "outputs": [],
   "source": [
    "import tensorflow as tf\n",
    "import numpy as np\n",
    "import matplotlib.pyplot as plt\n",
    "\n",
    "\n",
    "from tensorflow.keras.datasets import imdb\n",
    "from tensorflow.keras import preprocessing\n",
    "from tensorflow.keras.utils import to_categorical\n",
    "from tensorflow.keras import models, layers"
   ]
  },
  {
   "cell_type": "code",
   "execution_count": 2,
   "metadata": {},
   "outputs": [
    {
     "name": "stderr",
     "output_type": "stream",
     "text": [
      "/Users/iskriyanavasileva/opt/anaconda3/envs/dsr/lib/python3.6/site-packages/tensorflow/python/keras/datasets/imdb.py:155: VisibleDeprecationWarning: Creating an ndarray from ragged nested sequences (which is a list-or-tuple of lists-or-tuples-or ndarrays with different lengths or shapes) is deprecated. If you meant to do this, you must specify 'dtype=object' when creating the ndarray\n",
      "  x_train, y_train = np.array(xs[:idx]), np.array(labels[:idx])\n",
      "/Users/iskriyanavasileva/opt/anaconda3/envs/dsr/lib/python3.6/site-packages/tensorflow/python/keras/datasets/imdb.py:156: VisibleDeprecationWarning: Creating an ndarray from ragged nested sequences (which is a list-or-tuple of lists-or-tuples-or ndarrays with different lengths or shapes) is deprecated. If you meant to do this, you must specify 'dtype=object' when creating the ndarray\n",
      "  x_test, y_test = np.array(xs[idx:]), np.array(labels[idx:])\n"
     ]
    }
   ],
   "source": [
    "vocabulary_size = 10000 # my unique words\n",
    "sequence_length = 20 # hyperparameter - we take 20 words \n",
    "\n",
    "(x_train, y_train), (x_test, y_test) = imdb.load_data(num_words=vocabulary_size)"
   ]
  },
  {
   "cell_type": "code",
   "execution_count": 3,
   "metadata": {},
   "outputs": [],
   "source": [
    "#print(x_train)"
   ]
  },
  {
   "cell_type": "code",
   "execution_count": 4,
   "metadata": {},
   "outputs": [],
   "source": [
    "#print(y_train)"
   ]
  },
  {
   "cell_type": "markdown",
   "metadata": {},
   "source": [
    "2. Preprocessing\n",
    "\n",
    "padding - making everything the same length, fills the code with 0s if it is not long enough; cuts something if it is not long enough\n",
    "\n",
    "We defined length above by sequence_length = 20\n",
    "\n",
    "vocabulary_size & sequence_length - define how fast the neural network will be"
   ]
  },
  {
   "cell_type": "code",
   "execution_count": 5,
   "metadata": {},
   "outputs": [],
   "source": [
    "x_train = preprocessing.sequence.pad_sequences(x_train, maxlen=sequence_length)\n",
    "x_test = preprocessing.sequence.pad_sequences(x_train, maxlen=sequence_length)"
   ]
  },
  {
   "cell_type": "code",
   "execution_count": 6,
   "metadata": {},
   "outputs": [
    {
     "name": "stdout",
     "output_type": "stream",
     "text": [
      "(25000, 20)\n",
      "[  65   16   38 1334   88   12   16  283    5   16 4472  113  103   32\n",
      "   15   16 5345   19  178   32]\n"
     ]
    }
   ],
   "source": [
    "print(x_train.shape)\n",
    "print(x_train[0])"
   ]
  },
  {
   "cell_type": "markdown",
   "metadata": {},
   "source": [
    "3. Train - validate split\n",
    "\n",
    "Shuffle the data before the split \n",
    "\n",
    "Make sure to take also the y-s"
   ]
  },
  {
   "cell_type": "code",
   "execution_count": 7,
   "metadata": {},
   "outputs": [],
   "source": [
    "split_index = int(0.8 * len(x_train))\n",
    "imdb_train = tf.data.Dataset.from_tensor_slices(\n",
    "    (x_train[:split_index], y_train[:split_index])\n",
    "\n",
    ").cache()\n",
    "\n",
    "imdb_validate = tf.data.Dataset.from_tensor_slices(\n",
    "    (x_train[split_index:], y_train[split_index:])\n",
    "\n",
    ").cache()\n",
    "\n",
    "\n",
    "imdb_test = tf.data.Dataset.from_tensor_slices(\n",
    "    (x_test, y_test)\n",
    ").cache()"
   ]
  },
  {
   "cell_type": "code",
   "execution_count": 8,
   "metadata": {},
   "outputs": [
    {
     "name": "stdout",
     "output_type": "stream",
     "text": [
      "tf.Tensor(\n",
      "[1188   14    9   89   24    8   97    6  325   20   81   49 2301    5\n",
      "   28   49 3114   11  129 2220], shape=(20,), dtype=int32)\n",
      "(20,)\n",
      "tf.Tensor(0, shape=(), dtype=int64)\n"
     ]
    }
   ],
   "source": [
    "random_review, random_label = list(imdb_train.shuffle(10000).take(1))[0]\n",
    "print(random_review)\n",
    "print(random_review.shape)\n",
    "print(random_label)"
   ]
  },
  {
   "cell_type": "code",
   "execution_count": 9,
   "metadata": {},
   "outputs": [
    {
     "name": "stdout",
     "output_type": "stream",
     "text": [
      "Model: \"sequential\"\n",
      "_________________________________________________________________\n",
      "Layer (type)                 Output Shape              Param #   \n",
      "=================================================================\n",
      "embedding (Embedding)        (None, 20, 8)             80000     \n",
      "_________________________________________________________________\n",
      "flatten (Flatten)            (None, 160)               0         \n",
      "_________________________________________________________________\n",
      "dense (Dense)                (None, 1)                 161       \n",
      "=================================================================\n",
      "Total params: 80,161\n",
      "Trainable params: 80,161\n",
      "Non-trainable params: 0\n",
      "_________________________________________________________________\n",
      "Epoch 1/8\n",
      "625/625 [==============================] - 1s 1ms/step - loss: 0.6687 - accuracy: 0.6089 - val_loss: 0.6072 - val_accuracy: 0.6962\n",
      "Epoch 2/8\n",
      "625/625 [==============================] - 1s 1ms/step - loss: 0.5209 - accuracy: 0.7645 - val_loss: 0.5169 - val_accuracy: 0.7368\n",
      "Epoch 3/8\n",
      "625/625 [==============================] - 1s 1ms/step - loss: 0.4319 - accuracy: 0.8116 - val_loss: 0.4966 - val_accuracy: 0.7480\n",
      "Epoch 4/8\n",
      "625/625 [==============================] - 1s 1ms/step - loss: 0.3785 - accuracy: 0.8425 - val_loss: 0.4934 - val_accuracy: 0.7514\n",
      "Epoch 5/8\n",
      "625/625 [==============================] - 1s 1ms/step - loss: 0.3365 - accuracy: 0.8644 - val_loss: 0.4978 - val_accuracy: 0.7564\n",
      "Epoch 6/8\n",
      "625/625 [==============================] - 1s 1ms/step - loss: 0.3013 - accuracy: 0.8854 - val_loss: 0.5078 - val_accuracy: 0.7552\n",
      "Epoch 7/8\n",
      "625/625 [==============================] - 1s 1ms/step - loss: 0.2697 - accuracy: 0.9024 - val_loss: 0.5197 - val_accuracy: 0.7534\n",
      "Epoch 8/8\n",
      "625/625 [==============================] - 1s 1ms/step - loss: 0.2413 - accuracy: 0.9160 - val_loss: 0.5313 - val_accuracy: 0.7496\n"
     ]
    },
    {
     "data": {
      "text/plain": [
       "<tensorflow.python.keras.callbacks.History at 0x7f9ec4b4aa58>"
      ]
     },
     "execution_count": 9,
     "metadata": {},
     "output_type": "execute_result"
    }
   ],
   "source": [
    "embedding_size = 8\n",
    "\n",
    "model = models.Sequential()\n",
    "# embedding is a mapping table - we take the 20 integers = indexes from a sample (see random_review)\n",
    "# and take a look at the embedding table to see what is the corresponding vector\n",
    "# embedding layer is the only one where we can use big integers (no standardisation)\n",
    "model.add(layers.Embedding(vocabulary_size, embedding_size, input_length=sequence_length))\n",
    "model.add(layers.Flatten())\n",
    "model.add(layers.Dense(1, activation=\"sigmoid\"))\n",
    "model.summary()\n",
    "\n",
    "\n",
    "model.compile(\n",
    "    optimizer=\"nadam\",\n",
    "    loss=\"binary_crossentropy\",\n",
    "    metrics=[\"accuracy\"]\n",
    "\n",
    ")\n",
    "\n",
    "model.fit(\n",
    "    imdb_train.shuffle(10000).batch(32), # it shuffles before the beginning of every epoch\n",
    "    epochs=8,\n",
    "    validation_data=imdb_validate.batch(32)\n",
    ")"
   ]
  },
  {
   "cell_type": "code",
   "execution_count": 10,
   "metadata": {},
   "outputs": [
    {
     "name": "stdout",
     "output_type": "stream",
     "text": [
      "Epoch 1/8\n",
      "625/625 [==============================] - 1s 1ms/step - loss: 0.2152 - accuracy: 0.9305 - val_loss: 0.5475 - val_accuracy: 0.7472\n",
      "Epoch 2/8\n",
      "625/625 [==============================] - 1s 1ms/step - loss: 0.1920 - accuracy: 0.9403 - val_loss: 0.5611 - val_accuracy: 0.7480\n",
      "Epoch 3/8\n",
      "625/625 [==============================] - 1s 1ms/step - loss: 0.1705 - accuracy: 0.9508 - val_loss: 0.5796 - val_accuracy: 0.7414\n",
      "Epoch 4/8\n",
      "625/625 [==============================] - 1s 1ms/step - loss: 0.1512 - accuracy: 0.9599 - val_loss: 0.5998 - val_accuracy: 0.7392\n",
      "Epoch 5/8\n",
      "625/625 [==============================] - 1s 1ms/step - loss: 0.1337 - accuracy: 0.9671 - val_loss: 0.6188 - val_accuracy: 0.7374\n",
      "Epoch 6/8\n",
      "625/625 [==============================] - 1s 1ms/step - loss: 0.1180 - accuracy: 0.9730 - val_loss: 0.6387 - val_accuracy: 0.7328\n",
      "Epoch 7/8\n",
      "625/625 [==============================] - 1s 1ms/step - loss: 0.1040 - accuracy: 0.9789 - val_loss: 0.6626 - val_accuracy: 0.7310\n",
      "Epoch 8/8\n",
      "625/625 [==============================] - 1s 1ms/step - loss: 0.0914 - accuracy: 0.9834 - val_loss: 0.6859 - val_accuracy: 0.7292\n"
     ]
    }
   ],
   "source": [
    "history = model.fit(\n",
    "    imdb_train.shuffle(10000).batch(32),\n",
    "    epochs=8,\n",
    "    validation_data=imdb_validate.batch(32) # I don't shuffle, because you do not change anything on the visualisation data\n",
    ")"
   ]
  },
  {
   "cell_type": "code",
   "execution_count": 11,
   "metadata": {},
   "outputs": [
    {
     "data": {
      "image/png": "[encoded data removed]",
      "text/plain": [
       "<Figure size 432x288 with 1 Axes>"
      ]
     },
     "metadata": {
      "needs_background": "light"
     },
     "output_type": "display_data"
    },
    {
     "data": {
      "image/png": "[encoded data removed]",
      "text/plain": [
       "<Figure size 432x288 with 1 Axes>"
      ]
     },
     "metadata": {
      "needs_background": "light"
     },
     "output_type": "display_data"
    }
   ],
   "source": [
    "plt.plot(history.history[\"loss\"], label=['loss'])\n",
    "plt.plot(history.history[\"val_loss\"], label=['val_loss'])\n",
    "plt.legend()\n",
    "plt.show()\n",
    "plt.close()\n",
    "\n",
    "\n",
    "plt.plot(history.history[\"accuracy\"], label=['accuracy'])\n",
    "plt.plot(history.history[\"val_accuracy\"], label=['val_accuracy'])\n",
    "plt.legend()\n",
    "plt.show()\n",
    "plt.close()"
   ]
  },
  {
   "cell_type": "code",
   "execution_count": 12,
   "metadata": {},
   "outputs": [
    {
     "name": "stdout",
     "output_type": "stream",
     "text": [
      "--2020-08-04 16:09:14--  http://nlp.stanford.edu/data/glove.6B.zip\n",
      "Resolving nlp.stanford.edu (nlp.stanford.edu)... 171.64.67.140\n",
      "Connecting to nlp.stanford.edu (nlp.stanford.edu)|171.64.67.140|:80... connected.\n",
      "HTTP request sent, awaiting response... 302 Found\n",
      "Location: https://nlp.stanford.edu/data/glove.6B.zip [following]\n",
      "--2020-08-04 16:09:14--  https://nlp.stanford.edu/data/glove.6B.zip\n",
      "Connecting to nlp.stanford.edu (nlp.stanford.edu)|171.64.67.140|:443... connected.\n",
      "HTTP request sent, awaiting response... 301 Moved Permanently\n",
      "Location: http://downloads.cs.stanford.edu/nlp/data/glove.6B.zip [following]\n",
      "--2020-08-04 16:09:15--  http://downloads.cs.stanford.edu/nlp/data/glove.6B.zip\n",
      "Resolving downloads.cs.stanford.edu (downloads.cs.stanford.edu)... 171.64.64.22\n",
      "Connecting to downloads.cs.stanford.edu (downloads.cs.stanford.edu)|171.64.64.22|:80... connected.\n",
      "HTTP request sent, awaiting response... 200 OK\n",
      "Length: 862182613 (822M) [application/zip]\n",
      "Saving to: ‘glove.6B.zip.1’\n",
      "\n",
      "glove.6B.zip.1      100%[===================>] 822,24M  2,20MB/s    in 6m 33s  \n",
      "\n",
      "2020-08-04 16:15:47 (2,09 MB/s) - ‘glove.6B.zip.1’ saved [862182613/862182613]\n",
      "\n",
      "Archive:  glove.6B.zip\n",
      "replace glove.6B.50d.txt? [y]es, [n]o, [A]ll, [N]one, [r]ename: ^C\n"
     ]
    }
   ],
   "source": [
    "#!wget http://nlp.stanford.edu/data/glove.6B.zip\n",
    "#!unzip glove.6B.zip"
   ]
  },
  {
   "cell_type": "code",
   "execution_count": null,
   "metadata": {},
   "outputs": [],
   "source": [
    "!y"
   ]
  },
  {
   "cell_type": "code",
   "execution_count": 15,
   "metadata": {},
   "outputs": [
    {
     "data": {
      "text/plain": [
       "[<matplotlib.lines.Line2D at 0x7f9edb71d128>]"
      ]
     },
     "execution_count": 15,
     "metadata": {},
     "output_type": "execute_result"
    },
    {
     "data": {
      "image/png": "[encoded data removed]",
      "text/plain": [
       "<Figure size 432x288 with 1 Axes>"
      ]
     },
     "metadata": {
      "needs_background": "light"
     },
     "output_type": "display_data"
    }
   ],
   "source": [
    "#model.layers[0].get_weights()[0].shape # embedding layer\n",
    "plt.plot(model.layers[0].get_weights()[0][0])"
   ]
  },
  {
   "cell_type": "code",
   "execution_count": 16,
   "metadata": {},
   "outputs": [
    {
     "data": {
      "text/plain": [
       "<matplotlib.image.AxesImage at 0x7f9ec2fea4a8>"
      ]
     },
     "execution_count": 16,
     "metadata": {},
     "output_type": "execute_result"
    },
    {
     "data": {
      "image/png": "[encoded data removed]",
      "text/plain": [
       "<Figure size 432x288 with 1 Axes>"
      ]
     },
     "metadata": {
      "needs_background": "light"
     },
     "output_type": "display_data"
    }
   ],
   "source": [
    "plt.imshow(model.layers[0].get_weights()[0][:50,:], cmap=\"inferno\") #bright - high values"
   ]
  },
  {
   "cell_type": "code",
   "execution_count": 19,
   "metadata": {},
   "outputs": [],
   "source": [
    "word_index = imdb.get_word_index() # only for this data set; small number - appears often, big number - appears seldom\n",
    "# the numbers are shifted by 3, because a couple of tokens were introduced in between\n",
    "# in the previous tensorflow_datasets the encoder took care of this\n",
    "word_index = {k: (v + 3) for k, v in word_index.items()}\n",
    "word_index[\"<PAD>\"] = 0\n",
    "word_index[\"<START>\"] = 1\n",
    "word_index[\"<UNK>\"] = 2\n",
    "word_index[\"<UNUSED>\"] = 3 #?"
   ]
  },
  {
   "cell_type": "code",
   "execution_count": 22,
   "metadata": {},
   "outputs": [
    {
     "data": {
      "text/plain": [
       "array([ 0.17887421,  0.02570605, -0.14146467, -0.19228539,  0.09304307,\n",
       "       -0.13187136,  0.02721258, -0.02947923], dtype=float32)"
      ]
     },
     "execution_count": 22,
     "metadata": {},
     "output_type": "execute_result"
    }
   ],
   "source": [
    "def get_embedding_of_word(word):\n",
    "    assert word in word_index\n",
    "    index = word_index[word]\n",
    "    embedding = model.layers[0].get_weights()[0][index]\n",
    "    \n",
    "    return embedding\n",
    "\n",
    "get_embedding_of_word(\"king\")"
   ]
  },
  {
   "cell_type": "code",
   "execution_count": 33,
   "metadata": {},
   "outputs": [
    {
     "data": {
      "text/plain": [
       "1.5872103571891785"
      ]
     },
     "execution_count": 33,
     "metadata": {},
     "output_type": "execute_result"
    }
   ],
   "source": [
    "from scipy.spatial import distance\n",
    "\n",
    "distance.cosine(get_embedding_of_word(\"king\"),get_embedding_of_word(\"queen\")) # similarity"
   ]
  },
  {
   "cell_type": "code",
   "execution_count": 24,
   "metadata": {},
   "outputs": [
    {
     "data": {
      "text/plain": [
       "0.45496904850006104"
      ]
     },
     "execution_count": 24,
     "metadata": {},
     "output_type": "execute_result"
    }
   ],
   "source": [
    "distance.cosine(get_embedding_of_word(\"king\"),get_embedding_of_word(\"slave\"))"
   ]
  },
  {
   "cell_type": "code",
   "execution_count": 31,
   "metadata": {},
   "outputs": [
    {
     "data": {
      "text/plain": [
       "0.6192905902862549"
      ]
     },
     "execution_count": 31,
     "metadata": {},
     "output_type": "execute_result"
    }
   ],
   "source": [
    "distance.cosine(get_embedding_of_word(\"king\"),get_embedding_of_word(\"bottle\"))"
   ]
  },
  {
   "cell_type": "code",
   "execution_count": 40,
   "metadata": {},
   "outputs": [
    {
     "data": {
      "text/plain": [
       "0.43252938985824585"
      ]
     },
     "execution_count": 40,
     "metadata": {},
     "output_type": "execute_result"
    }
   ],
   "source": [
    "distance.euclidean(get_embedding_of_word(\"king\"),get_embedding_of_word(\"bottle\"))"
   ]
  },
  {
   "cell_type": "markdown",
   "metadata": {},
   "source": [
    "Synchronise our vocabulary with the Glove one\n",
    "\n",
    "Result: the look-up table for embedding with our indices from IMDB, BUT the vectors from Glove"
   ]
  },
  {
   "cell_type": "code",
   "execution_count": 41,
   "metadata": {},
   "outputs": [
    {
     "name": "stdout",
     "output_type": "stream",
     "text": [
      "(10000, 100)\n"
     ]
    }
   ],
   "source": [
    "embedding_size = 100\n",
    "embedding_index = {}\n",
    "\n",
    "f = open( \"glove.6B.100d.txt\")\n",
    "\n",
    "for line in f:\n",
    "    values = line.split()\n",
    "    word = values[0]\n",
    "    coefs = np.asarray(values[1:], dtype=\"float32\")\n",
    "    embedding_index[word] = coefs\n",
    "    \n",
    "word_index = imdb.get_word_index()\n",
    "\n",
    "max_words = 10000\n",
    "\n",
    "embedding_matrix = np.zeros((vocabulary_size, embedding_size)) # 100, because you are bound by Glove\n",
    "\n",
    "for word, i in word_index.items():\n",
    "    embedding_vector = embedding_index.get(word)\n",
    "    if i < vocabulary_size - 3 and embedding_vector is not None:\n",
    "        embedding_matrix[i + 3] = embedding_vector\n",
    "        \n",
    "print(embedding_matrix.shape)"
   ]
  },
  {
   "cell_type": "code",
   "execution_count": 44,
   "metadata": {},
   "outputs": [
    {
     "name": "stdout",
     "output_type": "stream",
     "text": [
      "Model: \"sequential_3\"\n",
      "_________________________________________________________________\n",
      "Layer (type)                 Output Shape              Param #   \n",
      "=================================================================\n",
      "embedding_3 (Embedding)      (None, 20, 100)           1000000   \n",
      "_________________________________________________________________\n",
      "flatten_3 (Flatten)          (None, 2000)              0         \n",
      "_________________________________________________________________\n",
      "dense_3 (Dense)              (None, 1)                 2001      \n",
      "=================================================================\n",
      "Total params: 1,002,001\n",
      "Trainable params: 2,001\n",
      "Non-trainable params: 1,000,000\n",
      "_________________________________________________________________\n",
      "Epoch 1/10\n",
      "625/625 [==============================] - 1s 1ms/step - loss: 0.6526 - accuracy: 0.6159 - val_loss: 0.6488 - val_accuracy: 0.6244\n",
      "Epoch 2/10\n",
      "625/625 [==============================] - 1s 1ms/step - loss: 0.5936 - accuracy: 0.6819 - val_loss: 0.6137 - val_accuracy: 0.6586\n",
      "Epoch 3/10\n",
      "625/625 [==============================] - 1s 1ms/step - loss: 0.5761 - accuracy: 0.6980 - val_loss: 0.6112 - val_accuracy: 0.6660\n",
      "Epoch 4/10\n",
      "625/625 [==============================] - 1s 1ms/step - loss: 0.5654 - accuracy: 0.7056 - val_loss: 0.6095 - val_accuracy: 0.6608\n",
      "Epoch 5/10\n",
      "625/625 [==============================] - 1s 1ms/step - loss: 0.5592 - accuracy: 0.7085 - val_loss: 0.6117 - val_accuracy: 0.6626\n",
      "Epoch 6/10\n",
      "625/625 [==============================] - 1s 1ms/step - loss: 0.5552 - accuracy: 0.7119 - val_loss: 0.6120 - val_accuracy: 0.6646\n",
      "Epoch 7/10\n",
      "625/625 [==============================] - 1s 2ms/step - loss: 0.5504 - accuracy: 0.7153 - val_loss: 0.6165 - val_accuracy: 0.6710\n",
      "Epoch 8/10\n",
      "625/625 [==============================] - 1s 1ms/step - loss: 0.5481 - accuracy: 0.7186 - val_loss: 0.6202 - val_accuracy: 0.6658\n",
      "Epoch 9/10\n",
      "625/625 [==============================] - 1s 1ms/step - loss: 0.5469 - accuracy: 0.7181 - val_loss: 0.6201 - val_accuracy: 0.6618\n",
      "Epoch 10/10\n",
      "625/625 [==============================] - 1s 1ms/step - loss: 0.5443 - accuracy: 0.7222 - val_loss: 0.6253 - val_accuracy: 0.6622\n"
     ]
    }
   ],
   "source": [
    "model = models.Sequential()\n",
    "model.add(layers.Embedding(\n",
    "    vocabulary_size, \n",
    "    embedding_size, \n",
    "    input_length=sequence_length\n",
    "))\n",
    "model.add(layers.Flatten())\n",
    "model.add(layers.Dense(1, activation=\"sigmoid\"))\n",
    "\n",
    "model.layers[0].set_weights([embedding_matrix]) # !!!! important !!!! \n",
    "model.layers[0].trainable = False \n",
    "\n",
    "model.summary()\n",
    "\n",
    "model.compile(\n",
    "    optimizer=\"rmsprop\", \n",
    "    loss=\"binary_crossentropy\",\n",
    "    metrics=[\"accuracy\"])\n",
    "\n",
    "history = model.fit(\n",
    "    imdb_train.shuffle(10000).batch(32),\n",
    "    epochs=10,\n",
    "    validation_data=imdb_validate.batch(32)\n",
    ")"
   ]
  },
  {
   "cell_type": "code",
   "execution_count": 46,
   "metadata": {},
   "outputs": [
    {
     "data": {
      "image/png": "[encoded data removed]",
      "text/plain": [
       "<Figure size 432x288 with 1 Axes>"
      ]
     },
     "metadata": {
      "needs_background": "light"
     },
     "output_type": "display_data"
    },
    {
     "data": {
      "image/png": "[encoded data removed]",
      "text/plain": [
       "<Figure size 432x288 with 1 Axes>"
      ]
     },
     "metadata": {
      "needs_background": "light"
     },
     "output_type": "display_data"
    }
   ],
   "source": [
    "plt.plot(history.history[\"loss\"], label=['loss'])\n",
    "plt.plot(history.history[\"val_loss\"], label=['val_loss'])\n",
    "plt.legend()\n",
    "plt.show()\n",
    "plt.close()\n",
    "\n",
    "\n",
    "plt.plot(history.history[\"accuracy\"], label=['accuracy'])\n",
    "plt.plot(history.history[\"val_accuracy\"], label=['val_accuracy'])\n",
    "plt.legend()\n",
    "plt.show()\n",
    "plt.close()"
   ]
  },
  {
   "cell_type": "code",
   "execution_count": null,
   "metadata": {},
   "outputs": [],
   "source": []
  },
  {
   "cell_type": "code",
   "execution_count": null,
   "metadata": {},
   "outputs": [],
   "source": []
  }
 ],
 "metadata": {
  "kernelspec": {
   "display_name": "dsr_kernel",
   "language": "python",
   "name": "dsr_kernel"
  },
  "language_info": {
   "codemirror_mode": {
    "name": "ipython",
    "version": 3
   },
   "file_extension": ".py",
   "mimetype": "text/x-python",
   "name": "python",
   "nbconvert_exporter": "python",
   "pygments_lexer": "ipython3",
   "version": "3.6.10"
  }
 },
 "nbformat": 4,
 "nbformat_minor": 4
}
