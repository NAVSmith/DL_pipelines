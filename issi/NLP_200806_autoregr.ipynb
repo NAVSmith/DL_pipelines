{
 "cells": [
  {
   "cell_type": "code",
   "execution_count": 1,
   "metadata": {},
   "outputs": [],
   "source": [
    "import tensorflow as tf\n",
    "import tensorflow_datasets as tfds\n",
    "import numpy as np\n",
    "import matplotlib.pyplot as plt\n",
    "from tensorflow.keras import models, layers"
   ]
  },
  {
   "cell_type": "code",
   "execution_count": 2,
   "metadata": {},
   "outputs": [
    {
     "name": "stdout",
     "output_type": "stream",
     "text": [
      "(1752, 64, 80)\n",
      "(1752, 80)\n",
      "(418, 64, 80)\n",
      "(418, 80)\n"
     ]
    }
   ],
   "source": [
    "import pickle\n",
    "(x_train, y_train), (x_validate, y_validate) = \\\n",
    "    pickle.load(open(\"dataset_encoded.p\", \"rb\"))\n",
    "print(x_train.shape)\n",
    "print(y_train.shape)\n",
    "print(x_validate.shape)\n",
    "print(y_validate.shape)\n",
    "import tensorflow as tf\n",
    "split_index = int(0.8 * len(x_train))\n",
    "dataset_train = tf.data.Dataset.from_tensor_slices(\n",
    "    (x_train[:split_index], y_train[:split_index])\n",
    ").cache()\n",
    "dataset_validate = tf.data.Dataset.from_tensor_slices(\n",
    "    (x_train[split_index:], y_train[split_index:])\n",
    ").cache()"
   ]
  },
  {
   "cell_type": "code",
   "execution_count": 3,
   "metadata": {},
   "outputs": [],
   "source": [
    "#plt.hist(x_train[:,:,0])\n",
    "#plt.hist(y_train)"
   ]
  },
  {
   "cell_type": "code",
   "execution_count": 4,
   "metadata": {},
   "outputs": [],
   "source": [
    "from tensorflow.keras import models, layers, regularizers"
   ]
  },
  {
   "cell_type": "code",
   "execution_count": 5,
   "metadata": {},
   "outputs": [
    {
     "name": "stdout",
     "output_type": "stream",
     "text": [
      "Model: \"sequential\"\n",
      "_________________________________________________________________\n",
      "Layer (type)                 Output Shape              Param #   \n",
      "=================================================================\n",
      "flatten (Flatten)            (None, 5120)              0         \n",
      "_________________________________________________________________\n",
      "dense (Dense)                (None, 320)               1638720   \n",
      "_________________________________________________________________\n",
      "dense_1 (Dense)              (None, 80)                25680     \n",
      "=================================================================\n",
      "Total params: 1,664,400\n",
      "Trainable params: 1,664,400\n",
      "Non-trainable params: 0\n",
      "_________________________________________________________________\n"
     ]
    }
   ],
   "source": [
    "model = models.Sequential()\n",
    "\n",
    "model.add(layers.Flatten(input_shape=(64,80)))\n",
    "model.add(layers.Dense(320, activation=\"relu\"))\n",
    "model.add(layers.Dense(80, activation=\"softmax\"))\n",
    "model.summary()\n",
    "\n",
    "model.compile(\n",
    "    optimizer=\"adam\",\n",
    "    loss=\"categorical_crossentropy\",\n",
    "    metrics=[\"accuracy\"]\n",
    ")"
   ]
  },
  {
   "cell_type": "code",
   "execution_count": 6,
   "metadata": {},
   "outputs": [
    {
     "name": "stdout",
     "output_type": "stream",
     "text": [
      "(418, 64, 80)\n",
      "(418, 80)\n"
     ]
    }
   ],
   "source": [
    "print(x_validate.shape)\n",
    "print(y_validate.shape)"
   ]
  },
  {
   "cell_type": "code",
   "execution_count": 7,
   "metadata": {},
   "outputs": [
    {
     "name": "stdout",
     "output_type": "stream",
     "text": [
      "1/1 [==============================] - 0s 988us/step - loss: 4.3867 - accuracy: 0.0024\n"
     ]
    },
    {
     "data": {
      "text/plain": [
       "(4.386703014373779, 0.0023923444095999002)"
      ]
     },
     "execution_count": 7,
     "metadata": {},
     "output_type": "execute_result"
    }
   ],
   "source": [
    "loss, accuracy = model.evaluate(x_validate, y_validate, batch_size=512)\n",
    "loss, accuracy"
   ]
  },
  {
   "cell_type": "code",
   "execution_count": 8,
   "metadata": {},
   "outputs": [
    {
     "name": "stdout",
     "output_type": "stream",
     "text": [
      "Epoch 1/10\n",
      "8/8 [==============================] - 0s 12ms/step - loss: 3.0068 - accuracy: 0.6433 - val_loss: 1.8432 - val_accuracy: 0.7010\n",
      "Epoch 2/10\n",
      "8/8 [==============================] - 0s 12ms/step - loss: 1.4003 - accuracy: 0.7483 - val_loss: 1.8955 - val_accuracy: 0.7010\n",
      "Epoch 3/10\n",
      "8/8 [==============================] - 0s 12ms/step - loss: 1.1676 - accuracy: 0.7483 - val_loss: 1.7047 - val_accuracy: 0.7010\n",
      "Epoch 4/10\n",
      "8/8 [==============================] - 0s 11ms/step - loss: 0.9964 - accuracy: 0.7660 - val_loss: 1.7357 - val_accuracy: 0.6938\n",
      "Epoch 5/10\n",
      "8/8 [==============================] - 0s 12ms/step - loss: 0.9615 - accuracy: 0.7534 - val_loss: 1.6719 - val_accuracy: 0.6986\n",
      "Epoch 6/10\n",
      "8/8 [==============================] - 0s 11ms/step - loss: 0.8526 - accuracy: 0.7711 - val_loss: 1.6723 - val_accuracy: 0.7010\n",
      "Epoch 7/10\n",
      "8/8 [==============================] - 0s 11ms/step - loss: 0.7937 - accuracy: 0.7757 - val_loss: 1.6731 - val_accuracy: 0.7010\n",
      "Epoch 8/10\n",
      "8/8 [==============================] - 0s 11ms/step - loss: 0.7324 - accuracy: 0.7979 - val_loss: 1.6662 - val_accuracy: 0.6962\n",
      "Epoch 9/10\n",
      "8/8 [==============================] - 0s 12ms/step - loss: 0.6987 - accuracy: 0.8019 - val_loss: 1.6843 - val_accuracy: 0.6986\n",
      "Epoch 10/10\n",
      "8/8 [==============================] - 0s 12ms/step - loss: 0.6689 - accuracy: 0.7979 - val_loss: 1.6743 - val_accuracy: 0.6962\n"
     ]
    }
   ],
   "source": [
    "history = model.fit(\n",
    "    x_train, y_train, batch_size=250,\n",
    "    epochs=10,\n",
    "    validation_data=(x_validate, y_validate)\n",
    ")"
   ]
  },
  {
   "cell_type": "code",
   "execution_count": 9,
   "metadata": {},
   "outputs": [
    {
     "data": {
      "image/png": "[encoded data removed]",
      "text/plain": [
       "<Figure size 432x288 with 1 Axes>"
      ]
     },
     "metadata": {
      "needs_background": "light"
     },
     "output_type": "display_data"
    },
    {
     "data": {
      "image/png": "[encoded data removed]",
      "text/plain": [
       "<Figure size 432x288 with 1 Axes>"
      ]
     },
     "metadata": {
      "needs_background": "light"
     },
     "output_type": "display_data"
    }
   ],
   "source": [
    "plt.plot(history.history[\"loss\"], label=['loss'])\n",
    "plt.plot(history.history[\"val_loss\"], label=['val_loss'])\n",
    "plt.legend()\n",
    "plt.show()\n",
    "plt.close()\n",
    "\n",
    "\n",
    "plt.plot(history.history[\"accuracy\"], label=['accuracy'])\n",
    "plt.plot(history.history[\"val_accuracy\"], label=['val_accuracy'])\n",
    "plt.legend()\n",
    "plt.show()\n",
    "plt.close()"
   ]
  },
  {
   "cell_type": "code",
   "execution_count": 10,
   "metadata": {},
   "outputs": [
    {
     "data": {
      "image/png": "[encoded data removed]",
      "text/plain": [
       "<Figure size 432x288 with 1 Axes>"
      ]
     },
     "metadata": {
      "needs_background": "light"
     },
     "output_type": "display_data"
    }
   ],
   "source": [
    "import random\n",
    "import numpy as np\n",
    "def generate(model, seed, temperature, generated_sequence_length):\n",
    "    input_sequence = list(seed)\n",
    "    # Generate the sequence by repeatedly predicting.\n",
    "    generated_sequence = []\n",
    "    while len(generated_sequence) < generated_sequence_length:\n",
    "        prediction = model.predict(np.array([seed]))\n",
    "        predicted_index = get_index_from_prediction(prediction[0], temperature)\n",
    "        generated_sequence.append(predicted_index)\n",
    "        input_sequence = input_sequence[1:]\n",
    "        input_sequence.append(predicted_index)\n",
    "    # Convert the generated sequence to a string.\n",
    "    return [np.argmax(x) for x in seed] + list(generated_sequence)\n",
    "\n",
    "def get_index_from_prediction(prediction, temperature=0.0):\n",
    "    \"\"\" Gets an index from a prediction. \"\"\"\n",
    "    # Zero temperature - use the argmax.\n",
    "    if temperature == 0.0:\n",
    "        return np.argmax(prediction)\n",
    "    # Non-zero temperature - do some random magic.\n",
    "    else:\n",
    "        prediction = np.asarray(prediction).astype('float64')\n",
    "        prediction = np.log(prediction) / temperature\n",
    "        exp_prediction= np.exp(prediction)\n",
    "        prediction = exp_prediction / np.sum(exp_prediction)\n",
    "        probabilities = np.random.multinomial(1, prediction, 1)\n",
    "        return np.argmax(probabilities)\n",
    "    \n",
    "random_index = random.randint(0, len(x_train))\n",
    "random_index = 0\n",
    "seed = x_train[random_index]\n",
    "generated_sequence = generate(model, seed=seed, temperature=1.0, generated_sequence_length=50)\n",
    "plt.plot(generated_sequence)\n",
    "plt.show()\n",
    "plt.close()"
   ]
  },
  {
   "cell_type": "code",
   "execution_count": 11,
   "metadata": {},
   "outputs": [
    {
     "data": {
      "image/png": "[encoded data removed]",
      "text/plain": [
       "<Figure size 432x288 with 1 Axes>"
      ]
     },
     "metadata": {
      "needs_background": "light"
     },
     "output_type": "display_data"
    }
   ],
   "source": [
    "import random\n",
    "import numpy as np\n",
    "\n",
    "def generate(model, seed, temperature, generated_sequence_length):\n",
    "    input_sequence = list(seed)\n",
    "    # Generate the sequence by repeatedly predicting.\n",
    "    generated_sequence = []\n",
    "    while len(generated_sequence) < generated_sequence_length:\n",
    "        prediction = model.predict(np.array([input_sequence]))\n",
    "        predicted_index = get_index_from_prediction(prediction[0], temperature)\n",
    "        generated_sequence.append(predicted_index)\n",
    "        input_sequence = input_sequence[1:]\n",
    "        input_sequence.append(prediction[0])\n",
    "    # Convert the generated sequence to a string.\n",
    "    return [np.argmax(x) for x in seed] + list(generated_sequence)\n",
    "\n",
    "def get_index_from_prediction(prediction, temperature=0.0):\n",
    "    \"\"\" Gets an index from a prediction. \"\"\"\n",
    "    # Zero temperature - use the argmax.\n",
    "    if temperature == 0.0:\n",
    "        return np.argmax(prediction)\n",
    "    # Non-zero temperature - do some random magic.\n",
    "    else:\n",
    "        prediction = np.asarray(prediction).astype('float64')\n",
    "        prediction = np.log(prediction) / temperature\n",
    "        exp_prediction= np.exp(prediction)\n",
    "        prediction = exp_prediction / np.sum(exp_prediction)\n",
    "        probabilities = np.random.multinomial(1, prediction, 1)\n",
    "        return np.argmax(probabilities)\n",
    "\n",
    "    random_index = random.randint(0, len(x_train))\n",
    "random_index = 0\n",
    "seed = x_train[random_index]\n",
    "generated_sequence = generate(model, seed=seed, temperature=1.0, generated_sequence_length=250)\n",
    "plt.plot(generated_sequence)\n",
    "plt.show()\n",
    "plt.close()"
   ]
  },
  {
   "cell_type": "code",
   "execution_count": 12,
   "metadata": {},
   "outputs": [
    {
     "name": "stdout",
     "output_type": "stream",
     "text": [
      "Requirement already satisfied: note-seq in /Users/iskriyanavasileva/opt/anaconda3/envs/dsr/lib/python3.6/site-packages (0.0.1)\n",
      "Requirement already satisfied: absl-py in /Users/iskriyanavasileva/opt/anaconda3/envs/dsr/lib/python3.6/site-packages (from note-seq) (0.9.0)\n",
      "Requirement already satisfied: attrs in /Users/iskriyanavasileva/opt/anaconda3/envs/dsr/lib/python3.6/site-packages (from note-seq) (19.3.0)\n",
      "Requirement already satisfied: numpy in /Users/iskriyanavasileva/opt/anaconda3/envs/dsr/lib/python3.6/site-packages (from note-seq) (1.19.1)\n",
      "Requirement already satisfied: protobuf>=3.6.1 in /Users/iskriyanavasileva/opt/anaconda3/envs/dsr/lib/python3.6/site-packages (from note-seq) (3.12.3)\n",
      "Requirement already satisfied: scipy>=0.18.1 in /Users/iskriyanavasileva/opt/anaconda3/envs/dsr/lib/python3.6/site-packages (from note-seq) (1.4.1)\n",
      "Requirement already satisfied: librosa>=0.6.2 in /Users/iskriyanavasileva/opt/anaconda3/envs/dsr/lib/python3.6/site-packages (from note-seq) (0.8.0)\n",
      "Requirement already satisfied: pretty-midi>=0.2.6 in /Users/iskriyanavasileva/opt/anaconda3/envs/dsr/lib/python3.6/site-packages (from note-seq) (0.2.9)\n",
      "Requirement already satisfied: IPython in /Users/iskriyanavasileva/opt/anaconda3/envs/dsr/lib/python3.6/site-packages (from note-seq) (7.16.1)\n",
      "Requirement already satisfied: numba==0.48.0 in /Users/iskriyanavasileva/opt/anaconda3/envs/dsr/lib/python3.6/site-packages (from note-seq) (0.48.0)\n",
      "Requirement already satisfied: intervaltree>=2.1.0 in /Users/iskriyanavasileva/opt/anaconda3/envs/dsr/lib/python3.6/site-packages (from note-seq) (3.1.0)\n",
      "Requirement already satisfied: scikit-image in /Users/iskriyanavasileva/opt/anaconda3/envs/dsr/lib/python3.6/site-packages (from note-seq) (0.17.2)\n",
      "Requirement already satisfied: pandas>=0.18.1 in /Users/iskriyanavasileva/opt/anaconda3/envs/dsr/lib/python3.6/site-packages (from note-seq) (1.0.5)\n",
      "Requirement already satisfied: bokeh>=0.12.0 in /Users/iskriyanavasileva/opt/anaconda3/envs/dsr/lib/python3.6/site-packages (from note-seq) (2.1.1)\n",
      "Requirement already satisfied: six in /Users/iskriyanavasileva/opt/anaconda3/envs/dsr/lib/python3.6/site-packages (from absl-py->note-seq) (1.15.0)\n",
      "Requirement already satisfied: setuptools in /Users/iskriyanavasileva/opt/anaconda3/envs/dsr/lib/python3.6/site-packages (from protobuf>=3.6.1->note-seq) (49.2.0.post20200714)\n",
      "Requirement already satisfied: soundfile>=0.9.0 in /Users/iskriyanavasileva/opt/anaconda3/envs/dsr/lib/python3.6/site-packages (from librosa>=0.6.2->note-seq) (0.10.3.post1)\n",
      "Requirement already satisfied: pooch>=1.0 in /Users/iskriyanavasileva/opt/anaconda3/envs/dsr/lib/python3.6/site-packages (from librosa>=0.6.2->note-seq) (1.1.1)\n",
      "Requirement already satisfied: decorator>=3.0.0 in /Users/iskriyanavasileva/opt/anaconda3/envs/dsr/lib/python3.6/site-packages (from librosa>=0.6.2->note-seq) (4.4.2)\n",
      "Requirement already satisfied: joblib>=0.14 in /Users/iskriyanavasileva/opt/anaconda3/envs/dsr/lib/python3.6/site-packages (from librosa>=0.6.2->note-seq) (0.16.0)\n",
      "Requirement already satisfied: scikit-learn!=0.19.0,>=0.14.0 in /Users/iskriyanavasileva/opt/anaconda3/envs/dsr/lib/python3.6/site-packages (from librosa>=0.6.2->note-seq) (0.23.1)\n",
      "Requirement already satisfied: resampy>=0.2.2 in /Users/iskriyanavasileva/opt/anaconda3/envs/dsr/lib/python3.6/site-packages (from librosa>=0.6.2->note-seq) (0.2.2)\n",
      "Requirement already satisfied: audioread>=2.0.0 in /Users/iskriyanavasileva/opt/anaconda3/envs/dsr/lib/python3.6/site-packages (from librosa>=0.6.2->note-seq) (2.1.8)\n",
      "Requirement already satisfied: mido>=1.1.16 in /Users/iskriyanavasileva/opt/anaconda3/envs/dsr/lib/python3.6/site-packages (from pretty-midi>=0.2.6->note-seq) (1.2.9)\n",
      "Requirement already satisfied: pexpect; sys_platform != \"win32\" in /Users/iskriyanavasileva/opt/anaconda3/envs/dsr/lib/python3.6/site-packages (from IPython->note-seq) (4.8.0)\n",
      "Requirement already satisfied: backcall in /Users/iskriyanavasileva/opt/anaconda3/envs/dsr/lib/python3.6/site-packages (from IPython->note-seq) (0.2.0)\n",
      "Requirement already satisfied: jedi>=0.10 in /Users/iskriyanavasileva/opt/anaconda3/envs/dsr/lib/python3.6/site-packages (from IPython->note-seq) (0.17.1)\n",
      "Requirement already satisfied: pickleshare in /Users/iskriyanavasileva/opt/anaconda3/envs/dsr/lib/python3.6/site-packages (from IPython->note-seq) (0.7.5)\n",
      "Requirement already satisfied: appnope; sys_platform == \"darwin\" in /Users/iskriyanavasileva/opt/anaconda3/envs/dsr/lib/python3.6/site-packages (from IPython->note-seq) (0.1.0)\n",
      "Requirement already satisfied: prompt-toolkit!=3.0.0,!=3.0.1,<3.1.0,>=2.0.0 in /Users/iskriyanavasileva/opt/anaconda3/envs/dsr/lib/python3.6/site-packages (from IPython->note-seq) (3.0.5)\n",
      "Requirement already satisfied: pygments in /Users/iskriyanavasileva/opt/anaconda3/envs/dsr/lib/python3.6/site-packages (from IPython->note-seq) (2.6.1)\n",
      "Requirement already satisfied: traitlets>=4.2 in /Users/iskriyanavasileva/opt/anaconda3/envs/dsr/lib/python3.6/site-packages (from IPython->note-seq) (4.3.3)\n",
      "Requirement already satisfied: llvmlite<0.32.0,>=0.31.0dev0 in /Users/iskriyanavasileva/opt/anaconda3/envs/dsr/lib/python3.6/site-packages (from numba==0.48.0->note-seq) (0.31.0)\n",
      "Requirement already satisfied: sortedcontainers<3.0,>=2.0 in /Users/iskriyanavasileva/opt/anaconda3/envs/dsr/lib/python3.6/site-packages (from intervaltree>=2.1.0->note-seq) (2.2.2)\n",
      "Requirement already satisfied: networkx>=2.0 in /Users/iskriyanavasileva/opt/anaconda3/envs/dsr/lib/python3.6/site-packages (from scikit-image->note-seq) (2.4)\n",
      "Requirement already satisfied: imageio>=2.3.0 in /Users/iskriyanavasileva/opt/anaconda3/envs/dsr/lib/python3.6/site-packages (from scikit-image->note-seq) (2.9.0)\n",
      "Requirement already satisfied: tifffile>=2019.7.26 in /Users/iskriyanavasileva/opt/anaconda3/envs/dsr/lib/python3.6/site-packages (from scikit-image->note-seq) (2020.7.24)\n",
      "Requirement already satisfied: matplotlib!=3.0.0,>=2.0.0 in /Users/iskriyanavasileva/opt/anaconda3/envs/dsr/lib/python3.6/site-packages (from scikit-image->note-seq) (3.2.2)\n",
      "Requirement already satisfied: pillow!=7.1.0,!=7.1.1,>=4.3.0 in /Users/iskriyanavasileva/opt/anaconda3/envs/dsr/lib/python3.6/site-packages (from scikit-image->note-seq) (7.2.0)\n",
      "Requirement already satisfied: PyWavelets>=1.1.1 in /Users/iskriyanavasileva/opt/anaconda3/envs/dsr/lib/python3.6/site-packages (from scikit-image->note-seq) (1.1.1)\n",
      "Requirement already satisfied: pytz>=2017.2 in /Users/iskriyanavasileva/opt/anaconda3/envs/dsr/lib/python3.6/site-packages (from pandas>=0.18.1->note-seq) (2020.1)\n",
      "Requirement already satisfied: python-dateutil>=2.6.1 in /Users/iskriyanavasileva/opt/anaconda3/envs/dsr/lib/python3.6/site-packages (from pandas>=0.18.1->note-seq) (2.8.1)\n",
      "Requirement already satisfied: PyYAML>=3.10 in /Users/iskriyanavasileva/opt/anaconda3/envs/dsr/lib/python3.6/site-packages (from bokeh>=0.12.0->note-seq) (5.3.1)\n",
      "Requirement already satisfied: typing-extensions>=3.7.4 in /Users/iskriyanavasileva/opt/anaconda3/envs/dsr/lib/python3.6/site-packages (from bokeh>=0.12.0->note-seq) (3.7.4.2)\n",
      "Requirement already satisfied: tornado>=5.1 in /Users/iskriyanavasileva/opt/anaconda3/envs/dsr/lib/python3.6/site-packages (from bokeh>=0.12.0->note-seq) (6.0.4)\n",
      "Requirement already satisfied: Jinja2>=2.7 in /Users/iskriyanavasileva/opt/anaconda3/envs/dsr/lib/python3.6/site-packages (from bokeh>=0.12.0->note-seq) (2.11.2)\n",
      "Requirement already satisfied: packaging>=16.8 in /Users/iskriyanavasileva/opt/anaconda3/envs/dsr/lib/python3.6/site-packages (from bokeh>=0.12.0->note-seq) (20.4)\n",
      "Requirement already satisfied: cffi>=1.0 in /Users/iskriyanavasileva/opt/anaconda3/envs/dsr/lib/python3.6/site-packages (from soundfile>=0.9.0->librosa>=0.6.2->note-seq) (1.14.0)\n",
      "Requirement already satisfied: appdirs in /Users/iskriyanavasileva/opt/anaconda3/envs/dsr/lib/python3.6/site-packages (from pooch>=1.0->librosa>=0.6.2->note-seq) (1.4.4)\n",
      "Requirement already satisfied: requests in /Users/iskriyanavasileva/opt/anaconda3/envs/dsr/lib/python3.6/site-packages (from pooch>=1.0->librosa>=0.6.2->note-seq) (2.24.0)\n",
      "Requirement already satisfied: threadpoolctl>=2.0.0 in /Users/iskriyanavasileva/opt/anaconda3/envs/dsr/lib/python3.6/site-packages (from scikit-learn!=0.19.0,>=0.14.0->librosa>=0.6.2->note-seq) (2.1.0)\n",
      "Requirement already satisfied: ptyprocess>=0.5 in /Users/iskriyanavasileva/opt/anaconda3/envs/dsr/lib/python3.6/site-packages (from pexpect; sys_platform != \"win32\"->IPython->note-seq) (0.6.0)\n",
      "Requirement already satisfied: parso<0.8.0,>=0.7.0 in /Users/iskriyanavasileva/opt/anaconda3/envs/dsr/lib/python3.6/site-packages (from jedi>=0.10->IPython->note-seq) (0.7.0)\n",
      "Requirement already satisfied: wcwidth in /Users/iskriyanavasileva/opt/anaconda3/envs/dsr/lib/python3.6/site-packages (from prompt-toolkit!=3.0.0,!=3.0.1,<3.1.0,>=2.0.0->IPython->note-seq) (0.2.5)\n",
      "Requirement already satisfied: ipython-genutils in /Users/iskriyanavasileva/opt/anaconda3/envs/dsr/lib/python3.6/site-packages (from traitlets>=4.2->IPython->note-seq) (0.2.0)\n",
      "Requirement already satisfied: pyparsing!=2.0.4,!=2.1.2,!=2.1.6,>=2.0.1 in /Users/iskriyanavasileva/opt/anaconda3/envs/dsr/lib/python3.6/site-packages (from matplotlib!=3.0.0,>=2.0.0->scikit-image->note-seq) (2.4.7)\n",
      "Requirement already satisfied: kiwisolver>=1.0.1 in /Users/iskriyanavasileva/opt/anaconda3/envs/dsr/lib/python3.6/site-packages (from matplotlib!=3.0.0,>=2.0.0->scikit-image->note-seq) (1.2.0)\n",
      "Requirement already satisfied: cycler>=0.10 in /Users/iskriyanavasileva/opt/anaconda3/envs/dsr/lib/python3.6/site-packages (from matplotlib!=3.0.0,>=2.0.0->scikit-image->note-seq) (0.10.0)\n",
      "Requirement already satisfied: MarkupSafe>=0.23 in /Users/iskriyanavasileva/opt/anaconda3/envs/dsr/lib/python3.6/site-packages (from Jinja2>=2.7->bokeh>=0.12.0->note-seq) (1.1.1)\n",
      "Requirement already satisfied: pycparser in /Users/iskriyanavasileva/opt/anaconda3/envs/dsr/lib/python3.6/site-packages (from cffi>=1.0->soundfile>=0.9.0->librosa>=0.6.2->note-seq) (2.20)\n",
      "Requirement already satisfied: idna<3,>=2.5 in /Users/iskriyanavasileva/opt/anaconda3/envs/dsr/lib/python3.6/site-packages (from requests->pooch>=1.0->librosa>=0.6.2->note-seq) (2.10)\n",
      "Requirement already satisfied: certifi>=2017.4.17 in /Users/iskriyanavasileva/opt/anaconda3/envs/dsr/lib/python3.6/site-packages (from requests->pooch>=1.0->librosa>=0.6.2->note-seq) (2020.6.20)\n",
      "Requirement already satisfied: urllib3!=1.25.0,!=1.25.1,<1.26,>=1.21.1 in /Users/iskriyanavasileva/opt/anaconda3/envs/dsr/lib/python3.6/site-packages (from requests->pooch>=1.0->librosa>=0.6.2->note-seq) (1.25.9)\n",
      "Requirement already satisfied: chardet<4,>=3.0.2 in /Users/iskriyanavasileva/opt/anaconda3/envs/dsr/lib/python3.6/site-packages (from requests->pooch>=1.0->librosa>=0.6.2->note-seq) (3.0.4)\n"
     ]
    }
   ],
   "source": [
    "!pip install note-seq"
   ]
  },
  {
   "cell_type": "code",
   "execution_count": 13,
   "metadata": {},
   "outputs": [
    {
     "name": "stdout",
     "output_type": "stream",
     "text": [
      "\u001b[34m==>\u001b[0m \u001b[1mDownloading https://homebrew.bintray.com/bottles/fluid-synth-2.1.4.catalina.\u001b[0m\n",
      "Already downloaded: /Users/iskriyanavasileva/Library/Caches/Homebrew/downloads/7dc976f407af26084df4b0591c73cbfc2be4c6eed52db6abe85a30ea91723f5e--fluid-synth-2.1.4.catalina.bottle.tar.gz\n",
      "\u001b[34m==>\u001b[0m \u001b[1mPouring fluid-synth-2.1.4.catalina.bottle.tar.gz\u001b[0m\n",
      "🍺  /usr/local/Cellar/fluid-synth/2.1.4: 33 files, 877.7KB\n"
     ]
    }
   ],
   "source": [
    "!brew install fluidsynth"
   ]
  },
  {
   "cell_type": "code",
   "execution_count": 14,
   "metadata": {},
   "outputs": [
    {
     "name": "stdout",
     "output_type": "stream",
     "text": [
      "Requirement already satisfied: pyfluidsynth in /Users/iskriyanavasileva/opt/anaconda3/envs/dsr/lib/python3.6/site-packages (1.2.5)\n",
      "Requirement already satisfied: future in /Users/iskriyanavasileva/opt/anaconda3/envs/dsr/lib/python3.6/site-packages (from pyfluidsynth) (0.18.2)\n"
     ]
    }
   ],
   "source": [
    "!pip install pyfluidsynth"
   ]
  },
  {
   "cell_type": "code",
   "execution_count": 15,
   "metadata": {},
   "outputs": [
    {
     "data": {
      "text/html": [
       "\n",
       "    <div class=\"bk-root\">\n",
       "        <a href=\"https://bokeh.org\" target=\"_blank\" class=\"bk-logo bk-logo-small bk-logo-notebook\"></a>\n",
       "        <span id=\"1047\">Loading BokehJS ...</span>\n",
       "    </div>"
      ]
     },
     "metadata": {},
     "output_type": "display_data"
    },
    {
     "data": {
      "application/javascript": [
       "\n",
       "(function(root) {\n",
       "  function now() {\n",
       "    return new Date();\n",
       "  }\n",
       "\n",
       "  var force = true;\n",
       "\n",
       "  if (typeof root._bokeh_onload_callbacks === \"undefined\" || force === true) {\n",
       "    root._bokeh_onload_callbacks = [];\n",
       "    root._bokeh_is_loading = undefined;\n",
       "  }\n",
       "\n",
       "  var JS_MIME_TYPE = 'application/javascript';\n",
       "  var HTML_MIME_TYPE = 'text/html';\n",
       "  var EXEC_MIME_TYPE = 'application/vnd.bokehjs_exec.v0+json';\n",
       "  var CLASS_NAME = 'output_bokeh rendered_html';\n",
       "\n",
       "  /**\n",
       "   * Render data to the DOM node\n",
       "   */\n",
       "  function render(props, node) {\n",
       "    var script = document.createElement(\"script\");\n",
       "    node.appendChild(script);\n",
       "  }\n",
       "\n",
       "  /**\n",
       "   * Handle when an output is cleared or removed\n",
       "   */\n",
       "  function handleClearOutput(event, handle) {\n",
       "    var cell = handle.cell;\n",
       "\n",
       "    var id = cell.output_area._bokeh_element_id;\n",
       "    var server_id = cell.output_area._bokeh_server_id;\n",
       "    // Clean up Bokeh references\n",
       "    if (id != null && id in Bokeh.index) {\n",
       "      Bokeh.index[id].model.document.clear();\n",
       "      delete Bokeh.index[id];\n",
       "    }\n",
       "\n",
       "    if (server_id !== undefined) {\n",
       "      // Clean up Bokeh references\n",
       "      var cmd = \"from bokeh.io.state import curstate; print(curstate().uuid_to_server['\" + server_id + \"'].get_sessions()[0].document.roots[0]._id)\";\n",
       "      cell.notebook.kernel.execute(cmd, {\n",
       "        iopub: {\n",
       "          output: function(msg) {\n",
       "            var id = msg.content.text.trim();\n",
       "            if (id in Bokeh.index) {\n",
       "              Bokeh.index[id].model.document.clear();\n",
       "              delete Bokeh.index[id];\n",
       "            }\n",
       "          }\n",
       "        }\n",
       "      });\n",
       "      // Destroy server and session\n",
       "      var cmd = \"import bokeh.io.notebook as ion; ion.destroy_server('\" + server_id + \"')\";\n",
       "      cell.notebook.kernel.execute(cmd);\n",
       "    }\n",
       "  }\n",
       "\n",
       "  /**\n",
       "   * Handle when a new output is added\n",
       "   */\n",
       "  function handleAddOutput(event, handle) {\n",
       "    var output_area = handle.output_area;\n",
       "    var output = handle.output;\n",
       "\n",
       "    // limit handleAddOutput to display_data with EXEC_MIME_TYPE content only\n",
       "    if ((output.output_type != \"display_data\") || (!output.data.hasOwnProperty(EXEC_MIME_TYPE))) {\n",
       "      return\n",
       "    }\n",
       "\n",
       "    var toinsert = output_area.element.find(\".\" + CLASS_NAME.split(' ')[0]);\n",
       "\n",
       "    if (output.metadata[EXEC_MIME_TYPE][\"id\"] !== undefined) {\n",
       "      toinsert[toinsert.length - 1].firstChild.textContent = output.data[JS_MIME_TYPE];\n",
       "      // store reference to embed id on output_area\n",
       "      output_area._bokeh_element_id = output.metadata[EXEC_MIME_TYPE][\"id\"];\n",
       "    }\n",
       "    if (output.metadata[EXEC_MIME_TYPE][\"server_id\"] !== undefined) {\n",
       "      var bk_div = document.createElement(\"div\");\n",
       "      bk_div.innerHTML = output.data[HTML_MIME_TYPE];\n",
       "      var script_attrs = bk_div.children[0].attributes;\n",
       "      for (var i = 0; i < script_attrs.length; i++) {\n",
       "        toinsert[toinsert.length - 1].firstChild.setAttribute(script_attrs[i].name, script_attrs[i].value);\n",
       "        toinsert[toinsert.length - 1].firstChild.textContent = bk_div.children[0].textContent\n",
       "      }\n",
       "      // store reference to server id on output_area\n",
       "      output_area._bokeh_server_id = output.metadata[EXEC_MIME_TYPE][\"server_id\"];\n",
       "    }\n",
       "  }\n",
       "\n",
       "  function register_renderer(events, OutputArea) {\n",
       "\n",
       "    function append_mime(data, metadata, element) {\n",
       "      // create a DOM node to render to\n",
       "      var toinsert = this.create_output_subarea(\n",
       "        metadata,\n",
       "        CLASS_NAME,\n",
       "        EXEC_MIME_TYPE\n",
       "      );\n",
       "      this.keyboard_manager.register_events(toinsert);\n",
       "      // Render to node\n",
       "      var props = {data: data, metadata: metadata[EXEC_MIME_TYPE]};\n",
       "      render(props, toinsert[toinsert.length - 1]);\n",
       "      element.append(toinsert);\n",
       "      return toinsert\n",
       "    }\n",
       "\n",
       "    /* Handle when an output is cleared or removed */\n",
       "    events.on('clear_output.CodeCell', handleClearOutput);\n",
       "    events.on('delete.Cell', handleClearOutput);\n",
       "\n",
       "    /* Handle when a new output is added */\n",
       "    events.on('output_added.OutputArea', handleAddOutput);\n",
       "\n",
       "    /**\n",
       "     * Register the mime type and append_mime function with output_area\n",
       "     */\n",
       "    OutputArea.prototype.register_mime_type(EXEC_MIME_TYPE, append_mime, {\n",
       "      /* Is output safe? */\n",
       "      safe: true,\n",
       "      /* Index of renderer in `output_area.display_order` */\n",
       "      index: 0\n",
       "    });\n",
       "  }\n",
       "\n",
       "  // register the mime type if in Jupyter Notebook environment and previously unregistered\n",
       "  if (root.Jupyter !== undefined) {\n",
       "    var events = require('base/js/events');\n",
       "    var OutputArea = require('notebook/js/outputarea').OutputArea;\n",
       "\n",
       "    if (OutputArea.prototype.mime_types().indexOf(EXEC_MIME_TYPE) == -1) {\n",
       "      register_renderer(events, OutputArea);\n",
       "    }\n",
       "  }\n",
       "\n",
       "  \n",
       "  if (typeof (root._bokeh_timeout) === \"undefined\" || force === true) {\n",
       "    root._bokeh_timeout = Date.now() + 5000;\n",
       "    root._bokeh_failed_load = false;\n",
       "  }\n",
       "\n",
       "  var NB_LOAD_WARNING = {'data': {'text/html':\n",
       "     \"<div style='background-color: #fdd'>\\n\"+\n",
       "     \"<p>\\n\"+\n",
       "     \"BokehJS does not appear to have successfully loaded. If loading BokehJS from CDN, this \\n\"+\n",
       "     \"may be due to a slow or bad network connection. Possible fixes:\\n\"+\n",
       "     \"</p>\\n\"+\n",
       "     \"<ul>\\n\"+\n",
       "     \"<li>re-rerun `output_notebook()` to attempt to load from CDN again, or</li>\\n\"+\n",
       "     \"<li>use INLINE resources instead, as so:</li>\\n\"+\n",
       "     \"</ul>\\n\"+\n",
       "     \"<code>\\n\"+\n",
       "     \"from bokeh.resources import INLINE\\n\"+\n",
       "     \"output_notebook(resources=INLINE)\\n\"+\n",
       "     \"</code>\\n\"+\n",
       "     \"</div>\"}};\n",
       "\n",
       "  function display_loaded() {\n",
       "    var el = document.getElementById(\"1047\");\n",
       "    if (el != null) {\n",
       "      el.textContent = \"BokehJS is loading...\";\n",
       "    }\n",
       "    if (root.Bokeh !== undefined) {\n",
       "      if (el != null) {\n",
       "        el.textContent = \"BokehJS \" + root.Bokeh.version + \" successfully loaded.\";\n",
       "      }\n",
       "    } else if (Date.now() < root._bokeh_timeout) {\n",
       "      setTimeout(display_loaded, 100)\n",
       "    }\n",
       "  }\n",
       "\n",
       "\n",
       "  function run_callbacks() {\n",
       "    try {\n",
       "      root._bokeh_onload_callbacks.forEach(function(callback) {\n",
       "        if (callback != null)\n",
       "          callback();\n",
       "      });\n",
       "    } finally {\n",
       "      delete root._bokeh_onload_callbacks\n",
       "    }\n",
       "    console.debug(\"Bokeh: all callbacks have finished\");\n",
       "  }\n",
       "\n",
       "  function load_libs(css_urls, js_urls, callback) {\n",
       "    if (css_urls == null) css_urls = [];\n",
       "    if (js_urls == null) js_urls = [];\n",
       "\n",
       "    root._bokeh_onload_callbacks.push(callback);\n",
       "    if (root._bokeh_is_loading > 0) {\n",
       "      console.debug(\"Bokeh: BokehJS is being loaded, scheduling callback at\", now());\n",
       "      return null;\n",
       "    }\n",
       "    if (js_urls == null || js_urls.length === 0) {\n",
       "      run_callbacks();\n",
       "      return null;\n",
       "    }\n",
       "    console.debug(\"Bokeh: BokehJS not loaded, scheduling load and callback at\", now());\n",
       "    root._bokeh_is_loading = css_urls.length + js_urls.length;\n",
       "\n",
       "    function on_load() {\n",
       "      root._bokeh_is_loading--;\n",
       "      if (root._bokeh_is_loading === 0) {\n",
       "        console.debug(\"Bokeh: all BokehJS libraries/stylesheets loaded\");\n",
       "        run_callbacks()\n",
       "      }\n",
       "    }\n",
       "\n",
       "    function on_error() {\n",
       "      console.error(\"failed to load \" + url);\n",
       "    }\n",
       "\n",
       "    for (var i = 0; i < css_urls.length; i++) {\n",
       "      var url = css_urls[i];\n",
       "      const element = document.createElement(\"link\");\n",
       "      element.onload = on_load;\n",
       "      element.onerror = on_error;\n",
       "      element.rel = \"stylesheet\";\n",
       "      element.type = \"text/css\";\n",
       "      element.href = url;\n",
       "      console.debug(\"Bokeh: injecting link tag for BokehJS stylesheet: \", url);\n",
       "      document.body.appendChild(element);\n",
       "    }\n",
       "\n",
       "    const hashes = {\"https://cdn.bokeh.org/bokeh/release/bokeh-2.1.1.min.js\": \"kLr4fYcqcSpbuI95brIH3vnnYCquzzSxHPU6XGQCIkQRGJwhg0StNbj1eegrHs12\", \"https://cdn.bokeh.org/bokeh/release/bokeh-widgets-2.1.1.min.js\": \"xIGPmVtaOm+z0BqfSOMn4lOR6ciex448GIKG4eE61LsAvmGj48XcMQZtKcE/UXZe\", \"https://cdn.bokeh.org/bokeh/release/bokeh-tables-2.1.1.min.js\": \"Dc9u1wF/0zApGIWoBbH77iWEHtdmkuYWG839Uzmv8y8yBLXebjO9ZnERsde5Ln/P\", \"https://cdn.bokeh.org/bokeh/release/bokeh-gl-2.1.1.min.js\": \"cT9JaBz7GiRXdENrJLZNSC6eMNF3nh3fa5fTF51Svp+ukxPdwcU5kGXGPBgDCa2j\"};\n",
       "\n",
       "    for (var i = 0; i < js_urls.length; i++) {\n",
       "      var url = js_urls[i];\n",
       "      var element = document.createElement('script');\n",
       "      element.onload = on_load;\n",
       "      element.onerror = on_error;\n",
       "      element.async = false;\n",
       "      element.src = url;\n",
       "      if (url in hashes) {\n",
       "        element.crossOrigin = \"anonymous\";\n",
       "        element.integrity = \"sha384-\" + hashes[url];\n",
       "      }\n",
       "      console.debug(\"Bokeh: injecting script tag for BokehJS library: \", url);\n",
       "      document.head.appendChild(element);\n",
       "    }\n",
       "  };\n",
       "\n",
       "  function inject_raw_css(css) {\n",
       "    const element = document.createElement(\"style\");\n",
       "    element.appendChild(document.createTextNode(css));\n",
       "    document.body.appendChild(element);\n",
       "  }\n",
       "\n",
       "  \n",
       "  var js_urls = [\"https://cdn.bokeh.org/bokeh/release/bokeh-2.1.1.min.js\", \"https://cdn.bokeh.org/bokeh/release/bokeh-widgets-2.1.1.min.js\", \"https://cdn.bokeh.org/bokeh/release/bokeh-tables-2.1.1.min.js\", \"https://cdn.bokeh.org/bokeh/release/bokeh-gl-2.1.1.min.js\"];\n",
       "  var css_urls = [];\n",
       "  \n",
       "\n",
       "  var inline_js = [\n",
       "    function(Bokeh) {\n",
       "      Bokeh.set_log_level(\"info\");\n",
       "    },\n",
       "    function(Bokeh) {\n",
       "    \n",
       "    \n",
       "    }\n",
       "  ];\n",
       "\n",
       "  function run_inline_js() {\n",
       "    \n",
       "    if (root.Bokeh !== undefined || force === true) {\n",
       "      \n",
       "    for (var i = 0; i < inline_js.length; i++) {\n",
       "      inline_js[i].call(root, root.Bokeh);\n",
       "    }\n",
       "    if (force === true) {\n",
       "        display_loaded();\n",
       "      }} else if (Date.now() < root._bokeh_timeout) {\n",
       "      setTimeout(run_inline_js, 100);\n",
       "    } else if (!root._bokeh_failed_load) {\n",
       "      console.log(\"Bokeh: BokehJS failed to load within specified timeout.\");\n",
       "      root._bokeh_failed_load = true;\n",
       "    } else if (force !== true) {\n",
       "      var cell = $(document.getElementById(\"1047\")).parents('.cell').data().cell;\n",
       "      cell.output_area.append_execute_result(NB_LOAD_WARNING)\n",
       "    }\n",
       "\n",
       "  }\n",
       "\n",
       "  if (root._bokeh_is_loading === 0) {\n",
       "    console.debug(\"Bokeh: BokehJS loaded, going straight to plotting\");\n",
       "    run_inline_js();\n",
       "  } else {\n",
       "    load_libs(css_urls, js_urls, function() {\n",
       "      console.debug(\"Bokeh: BokehJS plotting callback run at\", now());\n",
       "      run_inline_js();\n",
       "    });\n",
       "  }\n",
       "}(window));"
      ],
      "application/vnd.bokehjs_load.v0+json": "\n(function(root) {\n  function now() {\n    return new Date();\n  }\n\n  var force = true;\n\n  if (typeof root._bokeh_onload_callbacks === \"undefined\" || force === true) {\n    root._bokeh_onload_callbacks = [];\n    root._bokeh_is_loading = undefined;\n  }\n\n  \n\n  \n  if (typeof (root._bokeh_timeout) === \"undefined\" || force === true) {\n    root._bokeh_timeout = Date.now() + 5000;\n    root._bokeh_failed_load = false;\n  }\n\n  var NB_LOAD_WARNING = {'data': {'text/html':\n     \"<div style='background-color: #fdd'>\\n\"+\n     \"<p>\\n\"+\n     \"BokehJS does not appear to have successfully loaded. If loading BokehJS from CDN, this \\n\"+\n     \"may be due to a slow or bad network connection. Possible fixes:\\n\"+\n     \"</p>\\n\"+\n     \"<ul>\\n\"+\n     \"<li>re-rerun `output_notebook()` to attempt to load from CDN again, or</li>\\n\"+\n     \"<li>use INLINE resources instead, as so:</li>\\n\"+\n     \"</ul>\\n\"+\n     \"<code>\\n\"+\n     \"from bokeh.resources import INLINE\\n\"+\n     \"output_notebook(resources=INLINE)\\n\"+\n     \"</code>\\n\"+\n     \"</div>\"}};\n\n  function display_loaded() {\n    var el = document.getElementById(\"1047\");\n    if (el != null) {\n      el.textContent = \"BokehJS is loading...\";\n    }\n    if (root.Bokeh !== undefined) {\n      if (el != null) {\n        el.textContent = \"BokehJS \" + root.Bokeh.version + \" successfully loaded.\";\n      }\n    } else if (Date.now() < root._bokeh_timeout) {\n      setTimeout(display_loaded, 100)\n    }\n  }\n\n\n  function run_callbacks() {\n    try {\n      root._bokeh_onload_callbacks.forEach(function(callback) {\n        if (callback != null)\n          callback();\n      });\n    } finally {\n      delete root._bokeh_onload_callbacks\n    }\n    console.debug(\"Bokeh: all callbacks have finished\");\n  }\n\n  function load_libs(css_urls, js_urls, callback) {\n    if (css_urls == null) css_urls = [];\n    if (js_urls == null) js_urls = [];\n\n    root._bokeh_onload_callbacks.push(callback);\n    if (root._bokeh_is_loading > 0) {\n      console.debug(\"Bokeh: BokehJS is being loaded, scheduling callback at\", now());\n      return null;\n    }\n    if (js_urls == null || js_urls.length === 0) {\n      run_callbacks();\n      return null;\n    }\n    console.debug(\"Bokeh: BokehJS not loaded, scheduling load and callback at\", now());\n    root._bokeh_is_loading = css_urls.length + js_urls.length;\n\n    function on_load() {\n      root._bokeh_is_loading--;\n      if (root._bokeh_is_loading === 0) {\n        console.debug(\"Bokeh: all BokehJS libraries/stylesheets loaded\");\n        run_callbacks()\n      }\n    }\n\n    function on_error() {\n      console.error(\"failed to load \" + url);\n    }\n\n    for (var i = 0; i < css_urls.length; i++) {\n      var url = css_urls[i];\n      const element = document.createElement(\"link\");\n      element.onload = on_load;\n      element.onerror = on_error;\n      element.rel = \"stylesheet\";\n      element.type = \"text/css\";\n      element.href = url;\n      console.debug(\"Bokeh: injecting link tag for BokehJS stylesheet: \", url);\n      document.body.appendChild(element);\n    }\n\n    const hashes = {\"https://cdn.bokeh.org/bokeh/release/bokeh-2.1.1.min.js\": \"kLr4fYcqcSpbuI95brIH3vnnYCquzzSxHPU6XGQCIkQRGJwhg0StNbj1eegrHs12\", \"https://cdn.bokeh.org/bokeh/release/bokeh-widgets-2.1.1.min.js\": \"xIGPmVtaOm+z0BqfSOMn4lOR6ciex448GIKG4eE61LsAvmGj48XcMQZtKcE/UXZe\", \"https://cdn.bokeh.org/bokeh/release/bokeh-tables-2.1.1.min.js\": \"Dc9u1wF/0zApGIWoBbH77iWEHtdmkuYWG839Uzmv8y8yBLXebjO9ZnERsde5Ln/P\", \"https://cdn.bokeh.org/bokeh/release/bokeh-gl-2.1.1.min.js\": \"cT9JaBz7GiRXdENrJLZNSC6eMNF3nh3fa5fTF51Svp+ukxPdwcU5kGXGPBgDCa2j\"};\n\n    for (var i = 0; i < js_urls.length; i++) {\n      var url = js_urls[i];\n      var element = document.createElement('script');\n      element.onload = on_load;\n      element.onerror = on_error;\n      element.async = false;\n      element.src = url;\n      if (url in hashes) {\n        element.crossOrigin = \"anonymous\";\n        element.integrity = \"sha384-\" + hashes[url];\n      }\n      console.debug(\"Bokeh: injecting script tag for BokehJS library: \", url);\n      document.head.appendChild(element);\n    }\n  };\n\n  function inject_raw_css(css) {\n    const element = document.createElement(\"style\");\n    element.appendChild(document.createTextNode(css));\n    document.body.appendChild(element);\n  }\n\n  \n  var js_urls = [\"https://cdn.bokeh.org/bokeh/release/bokeh-2.1.1.min.js\", \"https://cdn.bokeh.org/bokeh/release/bokeh-widgets-2.1.1.min.js\", \"https://cdn.bokeh.org/bokeh/release/bokeh-tables-2.1.1.min.js\", \"https://cdn.bokeh.org/bokeh/release/bokeh-gl-2.1.1.min.js\"];\n  var css_urls = [];\n  \n\n  var inline_js = [\n    function(Bokeh) {\n      Bokeh.set_log_level(\"info\");\n    },\n    function(Bokeh) {\n    \n    \n    }\n  ];\n\n  function run_inline_js() {\n    \n    if (root.Bokeh !== undefined || force === true) {\n      \n    for (var i = 0; i < inline_js.length; i++) {\n      inline_js[i].call(root, root.Bokeh);\n    }\n    if (force === true) {\n        display_loaded();\n      }} else if (Date.now() < root._bokeh_timeout) {\n      setTimeout(run_inline_js, 100);\n    } else if (!root._bokeh_failed_load) {\n      console.log(\"Bokeh: BokehJS failed to load within specified timeout.\");\n      root._bokeh_failed_load = true;\n    } else if (force !== true) {\n      var cell = $(document.getElementById(\"1047\")).parents('.cell').data().cell;\n      cell.output_area.append_execute_result(NB_LOAD_WARNING)\n    }\n\n  }\n\n  if (root._bokeh_is_loading === 0) {\n    console.debug(\"Bokeh: BokehJS loaded, going straight to plotting\");\n    run_inline_js();\n  } else {\n    load_libs(css_urls, js_urls, function() {\n      console.debug(\"Bokeh: BokehJS plotting callback run at\", now());\n      run_inline_js();\n    });\n  }\n}(window));"
     },
     "metadata": {},
     "output_type": "display_data"
    },
    {
     "data": {
      "text/html": [
       "\n",
       "\n",
       "\n",
       "\n",
       "\n",
       "\n",
       "  <div class=\"bk-root\" id=\"aa1a0ba1-7388-4bd5-9cf3-69e6880e1d01\" data-root-id=\"1001\"></div>\n"
      ]
     },
     "metadata": {},
     "output_type": "display_data"
    },
    {
     "data": {
      "application/javascript": [
       "(function(root) {\n",
       "  function embed_document(root) {\n",
       "    \n",
       "  var docs_json = {\"77570396-8c9a-4a51-bd7c-2941e5e89470\":{\"roots\":{\"references\":[{\"attributes\":{\"below\":[{\"id\":\"1010\"}],\"center\":[{\"id\":\"1013\"},{\"id\":\"1017\"}],\"left\":[{\"id\":\"1014\"}],\"plot_height\":200,\"plot_width\":500,\"renderers\":[{\"id\":\"1037\"}],\"title\":{\"id\":\"1040\"},\"toolbar\":{\"id\":\"1024\"},\"x_range\":{\"id\":\"1002\"},\"x_scale\":{\"id\":\"1006\"},\"y_range\":{\"id\":\"1004\"},\"y_scale\":{\"id\":\"1008\"}},\"id\":\"1001\",\"subtype\":\"Figure\",\"type\":\"Plot\"},{\"attributes\":{},\"id\":\"1008\",\"type\":\"LinearScale\"},{\"attributes\":{\"bottom_units\":\"screen\",\"fill_alpha\":0.5,\"fill_color\":\"lightgrey\",\"left_units\":\"screen\",\"level\":\"overlay\",\"line_alpha\":1.0,\"line_color\":\"black\",\"line_dash\":[4,4],\"line_width\":2,\"right_units\":\"screen\",\"top_units\":\"screen\"},\"id\":\"1023\",\"type\":\"BoxAnnotation\"},{\"attributes\":{\"axis_label\":\"time (sec)\",\"formatter\":{\"id\":\"1043\"},\"ticker\":{\"id\":\"1011\"}},\"id\":\"1010\",\"type\":\"LinearAxis\"},{\"attributes\":{},\"id\":\"1011\",\"type\":\"BasicTicker\"},{\"attributes\":{\"axis\":{\"id\":\"1010\"},\"ticker\":null},\"id\":\"1013\",\"type\":\"Grid\"},{\"attributes\":{\"text\":\"\"},\"id\":\"1040\",\"type\":\"Title\"},{\"attributes\":{\"axis_label\":\"pitch (MIDI)\",\"formatter\":{\"id\":\"1041\"},\"ticker\":{\"id\":\"1030\"}},\"id\":\"1014\",\"type\":\"LinearAxis\"},{\"attributes\":{\"bottom\":{\"field\":\"bottom\"},\"fill_alpha\":{\"value\":0.1},\"fill_color\":{\"value\":\"#d53e4f\"},\"left\":{\"field\":\"start_time\"},\"line_alpha\":{\"value\":0.1},\"right\":{\"field\":\"end_time\"},\"top\":{\"field\":\"top\"}},\"id\":\"1036\",\"type\":\"Quad\"},{\"attributes\":{},\"id\":\"1004\",\"type\":\"DataRange1d\"},{\"attributes\":{\"source\":{\"id\":\"1033\"}},\"id\":\"1038\",\"type\":\"CDSView\"},{\"attributes\":{},\"id\":\"1046\",\"type\":\"UnionRenderers\"},{\"attributes\":{\"axis\":{\"id\":\"1014\"},\"dimension\":1,\"ticker\":{\"id\":\"1032\"}},\"id\":\"1017\",\"type\":\"Grid\"},{\"attributes\":{\"data_source\":{\"id\":\"1033\"},\"glyph\":{\"id\":\"1035\"},\"hover_glyph\":null,\"muted_glyph\":null,\"nonselection_glyph\":{\"id\":\"1036\"},\"selection_glyph\":null,\"view\":{\"id\":\"1038\"}},\"id\":\"1037\",\"type\":\"GlyphRenderer\"},{\"attributes\":{\"data\":{\"bottom\":{\"__ndarray__\":\"ZmZmZmbmUUBmZmZmZuZRQGZmZmZm5lFAZmZmZmZmUUBmZmZmZqZTQGZmZmZmplJAZmZmZmbmUkBmZmZmZqZSQGZmZmZm5lFAZmZmZmZmVEBmZmZmZqZSQGZmZmZmplNAZmZmZmbmUUBmZmZmZqZTQGZmZmZm5lJAZmZmZmamUUBmZmZmZiZTQM3MzMzMTE9AZmZmZmbmUEBmZmZmZmZSQGZmZmZm5lFAZmZmZmbmUkA=\",\"dtype\":\"float64\",\"order\":\"little\",\"shape\":[22]},\"duration\":{\"__ndarray__\":\"AAAAAAAAwD8AAAAAAADAPwAAAAAAAMA/AAAAAAAAwD8AAAAAAADAPwAAAAAAAMA/AAAAAAAAwD8AAAAAAADAPwAAAAAAAMA/AAAAAAAAwD8AAAAAAADAPwAAAAAAAMA/AAAAAAAAwD8AAAAAAADAPwAAAAAAAMA/AAAAAAAAwD8AAAAAAADAPwAAAAAAAMA/AAAAAAAAwD8AAAAAAADAPwAAAAAAAMA/AAAAAAAAwD8=\",\"dtype\":\"float64\",\"order\":\"little\",\"shape\":[22]},\"end_time\":{\"__ndarray__\":\"AAAAAAAAwD8AAAAAAADYPwAAAAAAAOQ/AAAAAAAA7D8AAAAAAADwPwAAAAAAAPQ/AAAAAAAA+D8AAAAAAAD8PwAAAAAAAABAAAAAAAAAAkAAAAAAAAAEQAAAAAAAAAZAAAAAAAAACEAAAAAAAAAKQAAAAAAAAAxAAAAAAAAADkAAAAAAAAAPQAAAAAAAgBBAAAAAAACAEUAAAAAAAAASQAAAAAAAABNAAAAAAAAAFEA=\",\"dtype\":\"float64\",\"order\":\"little\",\"shape\":[22]},\"fill_alpha\":{\"__ndarray__\":\"AAAAAAAA8D8AAAAAAADwPwAAAAAAAPA/AAAAAAAA8D8AAAAAAADwPwAAAAAAAPA/AAAAAAAA8D8AAAAAAADwPwAAAAAAAPA/AAAAAAAA8D8AAAAAAADwPwAAAAAAAPA/AAAAAAAA8D8AAAAAAADwPwAAAAAAAPA/AAAAAAAA8D8AAAAAAADwPwAAAAAAAPA/AAAAAAAA8D8AAAAAAADwPwAAAAAAAPA/AAAAAAAA8D8=\",\"dtype\":\"float64\",\"order\":\"little\",\"shape\":[22]},\"index\":[0,1,2,3,4,5,6,7,8,9,10,11,12,13,14,15,16,17,18,19,20,21],\"instrument\":[0,0,0,0,0,0,0,0,0,0,0,0,0,0,0,0,0,0,0,0,0,0],\"pitch\":[72,72,72,70,79,75,76,75,72,82,75,79,72,79,76,71,77,63,68,74,72,76],\"program\":[0,0,0,0,0,0,0,0,0,0,0,0,0,0,0,0,0,0,0,0,0,0],\"start_time\":{\"__ndarray__\":\"AAAAAAAAAAAAAAAAAADQPwAAAAAAAOA/AAAAAAAA6D8AAAAAAADsPwAAAAAAAPI/AAAAAAAA9j8AAAAAAAD6PwAAAAAAAP4/AAAAAAAAAUAAAAAAAAADQAAAAAAAAAVAAAAAAAAAB0AAAAAAAAAJQAAAAAAAAAtAAAAAAAAADUAAAAAAAAAOQAAAAAAAABBAAAAAAAAAEUAAAAAAAIARQAAAAAAAgBJAAAAAAACAE0A=\",\"dtype\":\"float64\",\"order\":\"little\",\"shape\":[22]},\"top\":{\"__ndarray__\":\"mpmZmZkZUkCamZmZmRlSQJqZmZmZGVJAmpmZmZmZUUCamZmZmdlTQJqZmZmZ2VJAmpmZmZkZU0CamZmZmdlSQJqZmZmZGVJAmpmZmZmZVECamZmZmdlSQJqZmZmZ2VNAmpmZmZkZUkCamZmZmdlTQJqZmZmZGVNAmpmZmZnZUUCamZmZmVlTQDMzMzMzs09AmpmZmZkZUUCamZmZmZlSQJqZmZmZGVJAmpmZmZkZU0A=\",\"dtype\":\"float64\",\"order\":\"little\",\"shape\":[22]},\"velocity\":[100,100,100,100,100,100,100,100,100,100,100,100,100,100,100,100,100,100,100,100,100,100]},\"selected\":{\"id\":\"1045\"},\"selection_policy\":{\"id\":\"1046\"}},\"id\":\"1033\",\"type\":\"ColumnDataSource\"},{\"attributes\":{},\"id\":\"1041\",\"type\":\"BasicTickFormatter\"},{\"attributes\":{\"interval\":12},\"id\":\"1032\",\"type\":\"SingleIntervalTicker\"},{\"attributes\":{\"interval\":12},\"id\":\"1030\",\"type\":\"SingleIntervalTicker\"},{\"attributes\":{\"callback\":null,\"tooltips\":[[\"pitch\",\"@pitch\"],[\"program\",\"@program\"],[\"velo\",\"@velocity\"],[\"duration\",\"@duration\"],[\"start_time\",\"@start_time\"],[\"end_time\",\"@end_time\"],[\"velocity\",\"@velocity\"],[\"fill_alpha\",\"@fill_alpha\"]]},\"id\":\"1018\",\"type\":\"HoverTool\"},{\"attributes\":{},\"id\":\"1002\",\"type\":\"DataRange1d\"},{\"attributes\":{},\"id\":\"1019\",\"type\":\"PanTool\"},{\"attributes\":{\"overlay\":{\"id\":\"1023\"}},\"id\":\"1020\",\"type\":\"BoxZoomTool\"},{\"attributes\":{},\"id\":\"1021\",\"type\":\"ResetTool\"},{\"attributes\":{},\"id\":\"1022\",\"type\":\"SaveTool\"},{\"attributes\":{\"bottom\":{\"field\":\"bottom\"},\"fill_alpha\":{\"field\":\"fill_alpha\"},\"fill_color\":{\"value\":\"#d53e4f\"},\"left\":{\"field\":\"start_time\"},\"right\":{\"field\":\"end_time\"},\"top\":{\"field\":\"top\"}},\"id\":\"1035\",\"type\":\"Quad\"},{\"attributes\":{},\"id\":\"1043\",\"type\":\"BasicTickFormatter\"},{\"attributes\":{\"active_drag\":\"auto\",\"active_inspect\":\"auto\",\"active_multi\":null,\"active_scroll\":\"auto\",\"active_tap\":\"auto\",\"tools\":[{\"id\":\"1018\"},{\"id\":\"1019\"},{\"id\":\"1020\"},{\"id\":\"1021\"},{\"id\":\"1022\"}]},\"id\":\"1024\",\"type\":\"Toolbar\"},{\"attributes\":{},\"id\":\"1045\",\"type\":\"Selection\"},{\"attributes\":{},\"id\":\"1006\",\"type\":\"LinearScale\"}],\"root_ids\":[\"1001\"]},\"title\":\"Bokeh Application\",\"version\":\"2.1.1\"}};\n",
       "  var render_items = [{\"docid\":\"77570396-8c9a-4a51-bd7c-2941e5e89470\",\"root_ids\":[\"1001\"],\"roots\":{\"1001\":\"aa1a0ba1-7388-4bd5-9cf3-69e6880e1d01\"}}];\n",
       "  root.Bokeh.embed.embed_items_notebook(docs_json, render_items);\n",
       "\n",
       "  }\n",
       "  if (root.Bokeh !== undefined) {\n",
       "    embed_document(root);\n",
       "  } else {\n",
       "    var attempts = 0;\n",
       "    var timer = setInterval(function(root) {\n",
       "      if (root.Bokeh !== undefined) {\n",
       "        clearInterval(timer);\n",
       "        embed_document(root);\n",
       "      } else {\n",
       "        attempts++;\n",
       "        if (attempts > 100) {\n",
       "          clearInterval(timer);\n",
       "          console.log(\"Bokeh: ERROR: Unable to run BokehJS code because BokehJS library is missing\");\n",
       "        }\n",
       "      }\n",
       "    }, 10, root)\n",
       "  }\n",
       "})(window);"
      ],
      "application/vnd.bokehjs_exec.v0+json": ""
     },
     "metadata": {
      "application/vnd.bokehjs_exec.v0+json": {
       "id": "1001"
      }
     },
     "output_type": "display_data"
    },
    {
     "ename": "AttributeError",
     "evalue": "module 'fluidsynth' has no attribute 'Synth'",
     "output_type": "error",
     "traceback": [
      "\u001b[0;31m---------------------------------------------------------------------------\u001b[0m",
      "\u001b[0;31mAttributeError\u001b[0m                            Traceback (most recent call last)",
      "\u001b[0;32m<ipython-input-15-998d95cfa81c>\u001b[0m in \u001b[0;36m<module>\u001b[0;34m\u001b[0m\n\u001b[1;32m     45\u001b[0m     \u001b[0mnote_seq\u001b[0m\u001b[0;34m.\u001b[0m\u001b[0mplay_sequence\u001b[0m\u001b[0;34m(\u001b[0m\u001b[0mnote_sequence\u001b[0m\u001b[0;34m,\u001b[0m \u001b[0msynth\u001b[0m\u001b[0;34m=\u001b[0m\u001b[0mnote_seq\u001b[0m\u001b[0;34m.\u001b[0m\u001b[0mfluidsynth\u001b[0m\u001b[0;34m)\u001b[0m\u001b[0;34m\u001b[0m\u001b[0;34m\u001b[0m\u001b[0m\n\u001b[1;32m     46\u001b[0m \u001b[0;34m\u001b[0m\u001b[0m\n\u001b[0;32m---> 47\u001b[0;31m \u001b[0mplay\u001b[0m\u001b[0;34m(\u001b[0m\u001b[0mgenerated_sequence\u001b[0m\u001b[0;34m)\u001b[0m\u001b[0;34m\u001b[0m\u001b[0;34m\u001b[0m\u001b[0m\n\u001b[0m",
      "\u001b[0;32m<ipython-input-15-998d95cfa81c>\u001b[0m in \u001b[0;36mplay\u001b[0;34m(sequence)\u001b[0m\n\u001b[1;32m     43\u001b[0m \u001b[0;34m\u001b[0m\u001b[0m\n\u001b[1;32m     44\u001b[0m     \u001b[0mnote_seq\u001b[0m\u001b[0;34m.\u001b[0m\u001b[0mplot_sequence\u001b[0m\u001b[0;34m(\u001b[0m\u001b[0mnote_sequence\u001b[0m\u001b[0;34m)\u001b[0m\u001b[0;34m\u001b[0m\u001b[0;34m\u001b[0m\u001b[0m\n\u001b[0;32m---> 45\u001b[0;31m     \u001b[0mnote_seq\u001b[0m\u001b[0;34m.\u001b[0m\u001b[0mplay_sequence\u001b[0m\u001b[0;34m(\u001b[0m\u001b[0mnote_sequence\u001b[0m\u001b[0;34m,\u001b[0m \u001b[0msynth\u001b[0m\u001b[0;34m=\u001b[0m\u001b[0mnote_seq\u001b[0m\u001b[0;34m.\u001b[0m\u001b[0mfluidsynth\u001b[0m\u001b[0;34m)\u001b[0m\u001b[0;34m\u001b[0m\u001b[0;34m\u001b[0m\u001b[0m\n\u001b[0m\u001b[1;32m     46\u001b[0m \u001b[0;34m\u001b[0m\u001b[0m\n\u001b[1;32m     47\u001b[0m \u001b[0mplay\u001b[0m\u001b[0;34m(\u001b[0m\u001b[0mgenerated_sequence\u001b[0m\u001b[0;34m)\u001b[0m\u001b[0;34m\u001b[0m\u001b[0;34m\u001b[0m\u001b[0m\n",
      "\u001b[0;32m~/opt/anaconda3/envs/dsr/lib/python3.6/site-packages/note_seq/notebook_utils.py\u001b[0m in \u001b[0;36mplay_sequence\u001b[0;34m(sequence, synth, sample_rate, colab_ephemeral, **synth_args)\u001b[0m\n\u001b[1;32m     96\u001b[0m     \u001b[0;34m**\u001b[0m\u001b[0msynth_args\u001b[0m\u001b[0;34m:\u001b[0m \u001b[0mAdditional\u001b[0m \u001b[0mkeyword\u001b[0m \u001b[0marguments\u001b[0m \u001b[0mto\u001b[0m \u001b[0;32mpass\u001b[0m \u001b[0mto\u001b[0m \u001b[0mthe\u001b[0m \u001b[0msynth\u001b[0m \u001b[0mfunction\u001b[0m\u001b[0;34m.\u001b[0m\u001b[0;34m\u001b[0m\u001b[0;34m\u001b[0m\u001b[0m\n\u001b[1;32m     97\u001b[0m   \"\"\"\n\u001b[0;32m---> 98\u001b[0;31m   \u001b[0marray_of_floats\u001b[0m \u001b[0;34m=\u001b[0m \u001b[0msynth\u001b[0m\u001b[0;34m(\u001b[0m\u001b[0msequence\u001b[0m\u001b[0;34m,\u001b[0m \u001b[0msample_rate\u001b[0m\u001b[0;34m=\u001b[0m\u001b[0msample_rate\u001b[0m\u001b[0;34m,\u001b[0m \u001b[0;34m**\u001b[0m\u001b[0msynth_args\u001b[0m\u001b[0;34m)\u001b[0m\u001b[0;34m\u001b[0m\u001b[0;34m\u001b[0m\u001b[0m\n\u001b[0m\u001b[1;32m     99\u001b[0m \u001b[0;34m\u001b[0m\u001b[0m\n\u001b[1;32m    100\u001b[0m   \u001b[0;32mtry\u001b[0m\u001b[0;34m:\u001b[0m\u001b[0;34m\u001b[0m\u001b[0;34m\u001b[0m\u001b[0m\n",
      "\u001b[0;32m~/opt/anaconda3/envs/dsr/lib/python3.6/site-packages/note_seq/midi_synth.py\u001b[0m in \u001b[0;36mfluidsynth\u001b[0;34m(sequence, sample_rate, sf2_path)\u001b[0m\n\u001b[1;32m     53\u001b[0m   \"\"\"\n\u001b[1;32m     54\u001b[0m   \u001b[0mmidi\u001b[0m \u001b[0;34m=\u001b[0m \u001b[0mmidi_io\u001b[0m\u001b[0;34m.\u001b[0m\u001b[0mnote_sequence_to_pretty_midi\u001b[0m\u001b[0;34m(\u001b[0m\u001b[0msequence\u001b[0m\u001b[0;34m)\u001b[0m\u001b[0;34m\u001b[0m\u001b[0;34m\u001b[0m\u001b[0m\n\u001b[0;32m---> 55\u001b[0;31m   \u001b[0;32mreturn\u001b[0m \u001b[0mmidi\u001b[0m\u001b[0;34m.\u001b[0m\u001b[0mfluidsynth\u001b[0m\u001b[0;34m(\u001b[0m\u001b[0mfs\u001b[0m\u001b[0;34m=\u001b[0m\u001b[0msample_rate\u001b[0m\u001b[0;34m,\u001b[0m \u001b[0msf2_path\u001b[0m\u001b[0;34m=\u001b[0m\u001b[0msf2_path\u001b[0m\u001b[0;34m)\u001b[0m\u001b[0;34m\u001b[0m\u001b[0;34m\u001b[0m\u001b[0m\n\u001b[0m",
      "\u001b[0;32m~/opt/anaconda3/envs/dsr/lib/python3.6/site-packages/pretty_midi/pretty_midi.py\u001b[0m in \u001b[0;36mfluidsynth\u001b[0;34m(self, fs, sf2_path)\u001b[0m\n\u001b[1;32m    944\u001b[0m         \u001b[0;31m# Get synthesized waveform for each instrument\u001b[0m\u001b[0;34m\u001b[0m\u001b[0;34m\u001b[0m\u001b[0;34m\u001b[0m\u001b[0m\n\u001b[1;32m    945\u001b[0m         waveforms = [i.fluidsynth(fs=fs,\n\u001b[0;32m--> 946\u001b[0;31m                                   sf2_path=sf2_path) for i in self.instruments]\n\u001b[0m\u001b[1;32m    947\u001b[0m         \u001b[0;31m# Allocate output waveform, with #sample = max length of all waveforms\u001b[0m\u001b[0;34m\u001b[0m\u001b[0;34m\u001b[0m\u001b[0;34m\u001b[0m\u001b[0m\n\u001b[1;32m    948\u001b[0m         \u001b[0msynthesized\u001b[0m \u001b[0;34m=\u001b[0m \u001b[0mnp\u001b[0m\u001b[0;34m.\u001b[0m\u001b[0mzeros\u001b[0m\u001b[0;34m(\u001b[0m\u001b[0mnp\u001b[0m\u001b[0;34m.\u001b[0m\u001b[0mmax\u001b[0m\u001b[0;34m(\u001b[0m\u001b[0;34m[\u001b[0m\u001b[0mw\u001b[0m\u001b[0;34m.\u001b[0m\u001b[0mshape\u001b[0m\u001b[0;34m[\u001b[0m\u001b[0;36m0\u001b[0m\u001b[0;34m]\u001b[0m \u001b[0;32mfor\u001b[0m \u001b[0mw\u001b[0m \u001b[0;32min\u001b[0m \u001b[0mwaveforms\u001b[0m\u001b[0;34m]\u001b[0m\u001b[0;34m)\u001b[0m\u001b[0;34m)\u001b[0m\u001b[0;34m\u001b[0m\u001b[0;34m\u001b[0m\u001b[0m\n",
      "\u001b[0;32m~/opt/anaconda3/envs/dsr/lib/python3.6/site-packages/pretty_midi/pretty_midi.py\u001b[0m in \u001b[0;36m<listcomp>\u001b[0;34m(.0)\u001b[0m\n\u001b[1;32m    944\u001b[0m         \u001b[0;31m# Get synthesized waveform for each instrument\u001b[0m\u001b[0;34m\u001b[0m\u001b[0;34m\u001b[0m\u001b[0;34m\u001b[0m\u001b[0m\n\u001b[1;32m    945\u001b[0m         waveforms = [i.fluidsynth(fs=fs,\n\u001b[0;32m--> 946\u001b[0;31m                                   sf2_path=sf2_path) for i in self.instruments]\n\u001b[0m\u001b[1;32m    947\u001b[0m         \u001b[0;31m# Allocate output waveform, with #sample = max length of all waveforms\u001b[0m\u001b[0;34m\u001b[0m\u001b[0;34m\u001b[0m\u001b[0;34m\u001b[0m\u001b[0m\n\u001b[1;32m    948\u001b[0m         \u001b[0msynthesized\u001b[0m \u001b[0;34m=\u001b[0m \u001b[0mnp\u001b[0m\u001b[0;34m.\u001b[0m\u001b[0mzeros\u001b[0m\u001b[0;34m(\u001b[0m\u001b[0mnp\u001b[0m\u001b[0;34m.\u001b[0m\u001b[0mmax\u001b[0m\u001b[0;34m(\u001b[0m\u001b[0;34m[\u001b[0m\u001b[0mw\u001b[0m\u001b[0;34m.\u001b[0m\u001b[0mshape\u001b[0m\u001b[0;34m[\u001b[0m\u001b[0;36m0\u001b[0m\u001b[0;34m]\u001b[0m \u001b[0;32mfor\u001b[0m \u001b[0mw\u001b[0m \u001b[0;32min\u001b[0m \u001b[0mwaveforms\u001b[0m\u001b[0;34m]\u001b[0m\u001b[0;34m)\u001b[0m\u001b[0;34m)\u001b[0m\u001b[0;34m\u001b[0m\u001b[0;34m\u001b[0m\u001b[0m\n",
      "\u001b[0;32m~/opt/anaconda3/envs/dsr/lib/python3.6/site-packages/pretty_midi/instrument.py\u001b[0m in \u001b[0;36mfluidsynth\u001b[0;34m(self, fs, sf2_path)\u001b[0m\n\u001b[1;32m    466\u001b[0m \u001b[0;34m\u001b[0m\u001b[0m\n\u001b[1;32m    467\u001b[0m         \u001b[0;31m# Create fluidsynth instance\u001b[0m\u001b[0;34m\u001b[0m\u001b[0;34m\u001b[0m\u001b[0;34m\u001b[0m\u001b[0m\n\u001b[0;32m--> 468\u001b[0;31m         \u001b[0mfl\u001b[0m \u001b[0;34m=\u001b[0m \u001b[0mfluidsynth\u001b[0m\u001b[0;34m.\u001b[0m\u001b[0mSynth\u001b[0m\u001b[0;34m(\u001b[0m\u001b[0msamplerate\u001b[0m\u001b[0;34m=\u001b[0m\u001b[0mfs\u001b[0m\u001b[0;34m)\u001b[0m\u001b[0;34m\u001b[0m\u001b[0;34m\u001b[0m\u001b[0m\n\u001b[0m\u001b[1;32m    469\u001b[0m         \u001b[0;31m# Load in the soundfont\u001b[0m\u001b[0;34m\u001b[0m\u001b[0;34m\u001b[0m\u001b[0;34m\u001b[0m\u001b[0m\n\u001b[1;32m    470\u001b[0m         \u001b[0msfid\u001b[0m \u001b[0;34m=\u001b[0m \u001b[0mfl\u001b[0m\u001b[0;34m.\u001b[0m\u001b[0msfload\u001b[0m\u001b[0;34m(\u001b[0m\u001b[0msf2_path\u001b[0m\u001b[0;34m)\u001b[0m\u001b[0;34m\u001b[0m\u001b[0;34m\u001b[0m\u001b[0m\n",
      "\u001b[0;31mAttributeError\u001b[0m: module 'fluidsynth' has no attribute 'Synth'"
     ]
    }
   ],
   "source": [
    "import note_seq\n",
    "\n",
    "def play(sequence):\n",
    "    note_sequence = note_seq.protobuf.music_pb2.NoteSequence()\n",
    "    note_sequence.tempos.add().qpm = 120.0\n",
    "    note_sequence.ticks_per_quarter = note_seq.constants.STANDARD_PPQ\n",
    "    note_sequence.total_time = 0.0\n",
    "    \n",
    "    time = 0.0\n",
    "    sixteenth_length = 2.0 / 16.0\n",
    "    pitch = None\n",
    "    start_time = None\n",
    "    for n in sequence:\n",
    "        \n",
    "        if n < 4 and pitch is None:\n",
    "            continue\n",
    "            \n",
    "        elif n < 4 and pitch != None:\n",
    "            note = note_seq.protobuf.music_pb2.NoteSequence.Note()\n",
    "            note.pitch = pitch + 24\n",
    "            note.velocity = 100\n",
    "            note.start_time = start_time\n",
    "            note.end_time = time\n",
    "            note_sequence.notes.append(note)\n",
    "            pitch = None\n",
    "            start_time = None\n",
    "        elif n >= 4 and pitch != None:\n",
    "            note = note_seq.protobuf.music_pb2.NoteSequence.Note()\n",
    "            note.pitch = pitch + 24\n",
    "            note.velocity = 100\n",
    "            note.start_time = start_time\n",
    "            note.end_time = time\n",
    "            note_sequence.notes.append(note)\n",
    "            pitch = n\n",
    "            start_time = time\n",
    "            \n",
    "        elif n >= 4 and pitch is None:\n",
    "            pitch = n\n",
    "            start_time = time\n",
    "        else:\n",
    "            assert False\n",
    "        time += sixteenth_length\n",
    "        \n",
    "    note_seq.plot_sequence(note_sequence)\n",
    "    note_seq.play_sequence(note_sequence, synth=note_seq.fluidsynth)\n",
    "    \n",
    "play(generated_sequence)"
   ]
  },
  {
   "cell_type": "code",
   "execution_count": null,
   "metadata": {},
   "outputs": [],
   "source": [
    "#!pip uninstall pyfluidsynth\n",
    "#!pip install pyfluidsynth==1.2.5"
   ]
  },
  {
   "cell_type": "code",
   "execution_count": 16,
   "metadata": {},
   "outputs": [
    {
     "ename": "NameError",
     "evalue": "name 'fluidsynth' is not defined",
     "output_type": "error",
     "traceback": [
      "\u001b[0;31m---------------------------------------------------------------------------\u001b[0m",
      "\u001b[0;31mNameError\u001b[0m                                 Traceback (most recent call last)",
      "\u001b[0;32m<ipython-input-16-13a85b677871>\u001b[0m in \u001b[0;36m<module>\u001b[0;34m\u001b[0m\n\u001b[0;32m----> 1\u001b[0;31m \u001b[0mfluidsynth\u001b[0m\u001b[0;34m.\u001b[0m\u001b[0m__file__\u001b[0m\u001b[0;34m\u001b[0m\u001b[0;34m\u001b[0m\u001b[0m\n\u001b[0m",
      "\u001b[0;31mNameError\u001b[0m: name 'fluidsynth' is not defined"
     ]
    }
   ],
   "source": [
    "#fluidsynth.__file__"
   ]
  },
  {
   "cell_type": "code",
   "execution_count": null,
   "metadata": {},
   "outputs": [],
   "source": []
  }
 ],
 "metadata": {
  "kernelspec": {
   "display_name": "dsr_kernel",
   "language": "python",
   "name": "dsr_kernel"
  },
  "language_info": {
   "codemirror_mode": {
    "name": "ipython",
    "version": 3
   },
   "file_extension": ".py",
   "mimetype": "text/x-python",
   "name": "python",
   "nbconvert_exporter": "python",
   "pygments_lexer": "ipython3",
   "version": "3.6.10"
  }
 },
 "nbformat": 4,
 "nbformat_minor": 4
}
