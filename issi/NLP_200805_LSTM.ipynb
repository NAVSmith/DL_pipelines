{
 "cells": [
  {
   "cell_type": "code",
   "execution_count": 1,
   "metadata": {},
   "outputs": [],
   "source": [
    "import tensorflow as tf\n",
    "import numpy as np\n",
    "import matplotlib.pyplot as plt\n",
    "\n",
    "\n",
    "from tensorflow.keras.datasets import imdb\n",
    "from tensorflow.keras import preprocessing\n",
    "from tensorflow.keras.utils import to_categorical\n",
    "from tensorflow.keras import models, layers"
   ]
  },
  {
   "cell_type": "code",
   "execution_count": 4,
   "metadata": {},
   "outputs": [],
   "source": [
    "vocabulary_size = 10000 # my unique words\n",
    "sequence_length = 20 # hyperparameter - we take 20 words \n",
    "\n",
    "(x_train, y_train), (x_test, y_test) = imdb.load_data(num_words=vocabulary_size)\n",
    "\n",
    "\n",
    "\n",
    "x_train = preprocessing.sequence.pad_sequences(x_train, maxlen=sequence_length)\n",
    "x_test = preprocessing.sequence.pad_sequences(x_train, maxlen=sequence_length)\n",
    "\n",
    "\n",
    "split_index = int(0.8 * len(x_train))\n",
    "imdb_train = tf.data.Dataset.from_tensor_slices(\n",
    "    (x_train[:split_index], y_train[:split_index])\n",
    "\n",
    ").cache()\n",
    "\n",
    "imdb_validate = tf.data.Dataset.from_tensor_slices(\n",
    "    (x_train[split_index:], y_train[split_index:])\n",
    "\n",
    ").cache()\n",
    "\n",
    "\n",
    "imdb_test = tf.data.Dataset.from_tensor_slices(\n",
    "    (x_test, y_test)\n",
    ").cache()"
   ]
  },
  {
   "cell_type": "code",
   "execution_count": 12,
   "metadata": {},
   "outputs": [
    {
     "name": "stdout",
     "output_type": "stream",
     "text": [
      "Model: \"sequential_8\"\n",
      "_________________________________________________________________\n",
      "Layer (type)                 Output Shape              Param #   \n",
      "=================================================================\n",
      "embedding_8 (Embedding)      (None, 20, 8)             80000     \n",
      "_________________________________________________________________\n",
      "bidirectional (Bidirectional (None, 64)                10496     \n",
      "_________________________________________________________________\n",
      "dense_5 (Dense)              (None, 1)                 65        \n",
      "=================================================================\n",
      "Total params: 90,561\n",
      "Trainable params: 90,561\n",
      "Non-trainable params: 0\n",
      "_________________________________________________________________\n",
      "Epoch 1/10\n",
      "625/625 [==============================] - 6s 10ms/step - loss: 0.5471 - accuracy: 0.7097 - val_loss: 0.5023 - val_accuracy: 0.7446\n",
      "Epoch 2/10\n",
      "625/625 [==============================] - 6s 9ms/step - loss: 0.4127 - accuracy: 0.8133 - val_loss: 0.5095 - val_accuracy: 0.7458\n",
      "Epoch 3/10\n",
      "625/625 [==============================] - 6s 9ms/step - loss: 0.3588 - accuracy: 0.8446 - val_loss: 0.5400 - val_accuracy: 0.7460\n",
      "Epoch 4/10\n",
      "625/625 [==============================] - 6s 9ms/step - loss: 0.3147 - accuracy: 0.8658 - val_loss: 0.5844 - val_accuracy: 0.7394\n",
      "Epoch 5/10\n",
      "625/625 [==============================] - 6s 9ms/step - loss: 0.2674 - accuracy: 0.8925 - val_loss: 0.6244 - val_accuracy: 0.7310\n",
      "Epoch 6/10\n",
      "625/625 [==============================] - 6s 9ms/step - loss: 0.2265 - accuracy: 0.9108 - val_loss: 0.7481 - val_accuracy: 0.7234\n",
      "Epoch 7/10\n",
      "625/625 [==============================] - 6s 9ms/step - loss: 0.1963 - accuracy: 0.9269 - val_loss: 0.7981 - val_accuracy: 0.7214\n",
      "Epoch 8/10\n",
      "625/625 [==============================] - 6s 9ms/step - loss: 0.1644 - accuracy: 0.9394 - val_loss: 0.8638 - val_accuracy: 0.7160\n",
      "Epoch 9/10\n",
      "625/625 [==============================] - 6s 9ms/step - loss: 0.1415 - accuracy: 0.9481 - val_loss: 0.9978 - val_accuracy: 0.7156\n",
      "Epoch 10/10\n",
      "625/625 [==============================] - 6s 9ms/step - loss: 0.1171 - accuracy: 0.9580 - val_loss: 1.1099 - val_accuracy: 0.7170\n"
     ]
    }
   ],
   "source": [
    "embedding_size = 8 \n",
    "\n",
    "\n",
    "model = models.Sequential()\n",
    "\n",
    "#1st feature extraction\n",
    "model.add(layers.Embedding(\n",
    "    vocabulary_size,\n",
    "    embedding_size,\n",
    "    input_length=sequence_length\n",
    "))\n",
    "\n",
    "#2nd feature extraction\n",
    "#model.add(layers.Flatten())\n",
    "\n",
    "# Option 1\n",
    "# model.add(layers.LSTM(32))\n",
    "\n",
    "# Option 2\n",
    "#model.add(layers.LSTM(32, return_sequences=True)) # stacking of LSTMs\n",
    "#model.add(layers.LSTM(32)) # the size of the hidden state, randomly defined\n",
    "\n",
    "# Option 3\n",
    "# one LSTM going in the one direction and another in the opposite and we concatinate the vectors\n",
    "model.add(layers.Bidirectional(layers.LSTM(32))) \n",
    "\n",
    "\n",
    "model.add(layers.Dense(1, activation=\"sigmoid\"))\n",
    "\n",
    "model.summary()\n",
    "\n",
    "model.compile(\n",
    "    optimizer=\"adam\",\n",
    "    loss=\"binary_crossentropy\",\n",
    "    metrics=[\"accuracy\"] \n",
    ")\n",
    "\n",
    "history = model.fit(\n",
    "    imdb_train.shuffle(10000).batch(32), # pipeline; batch - too high - memory will explode and overfitting; too low - slow\n",
    "    epochs=10,\n",
    "    validation_data=imdb_validate.batch(32)\n",
    ")"
   ]
  },
  {
   "cell_type": "code",
   "execution_count": 13,
   "metadata": {},
   "outputs": [],
   "source": [
    "def plot_history(history):\n",
    "    plt.plot(history.history[\"loss\"], label=['loss'])\n",
    "    plt.plot(history.history[\"val_loss\"], label=['val_loss'])\n",
    "    plt.legend()\n",
    "    plt.show()\n",
    "    plt.close()\n",
    "    \n",
    "    \n",
    "    plt.plot(history.history[\"accuracy\"], label=['accuracy'])\n",
    "    plt.plot(history.history[\"val_accuracy\"], label=['val_accuracy'])\n",
    "    plt.legend()\n",
    "    plt.show()\n",
    "    plt.close()"
   ]
  },
  {
   "cell_type": "code",
   "execution_count": 14,
   "metadata": {},
   "outputs": [
    {
     "data": {
      "image/png": "[encoded data removed]",
      "text/plain": [
       "<Figure size 432x288 with 1 Axes>"
      ]
     },
     "metadata": {
      "needs_background": "light"
     },
     "output_type": "display_data"
    },
    {
     "data": {
      "image/png": "[encoded data removed]",
      "text/plain": [
       "<Figure size 432x288 with 1 Axes>"
      ]
     },
     "metadata": {
      "needs_background": "light"
     },
     "output_type": "display_data"
    }
   ],
   "source": [
    "plot_history(history)"
   ]
  },
  {
   "cell_type": "code",
   "execution_count": null,
   "metadata": {},
   "outputs": [],
   "source": []
  }
 ],
 "metadata": {
  "kernelspec": {
   "display_name": "dsr_kernel",
   "language": "python",
   "name": "dsr_kernel"
  },
  "language_info": {
   "codemirror_mode": {
    "name": "ipython",
    "version": 3
   },
   "file_extension": ".py",
   "mimetype": "text/x-python",
   "name": "python",
   "nbconvert_exporter": "python",
   "pygments_lexer": "ipython3",
   "version": "3.6.10"
  }
 },
 "nbformat": 4,
 "nbformat_minor": 4
}
