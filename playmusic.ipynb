{
 "cells": [
  {
   "cell_type": "code",
   "execution_count": null,
   "metadata": {},
   "outputs": [],
   "source": [
    "import tensorflow as tf\n",
    "import numpy as np\n",
    "import matplotlib.pyplot as plt\n",
    "from tensorflow.keras import models, layers, regularizers, optimizers"
   ]
  },
  {
   "cell_type": "code",
   "execution_count": null,
   "metadata": {},
   "outputs": [],
   "source": [
    "import pickle\n",
    "(x_train, y_train), (x_validate, y_validate) = \\\n",
    "    pickle.load(open(\"dataset_encoded.p\", \"rb\"))\n",
    "print(x_train.shape)\n",
    "print(y_train.shape)\n",
    "print(x_validate.shape)\n",
    "print(y_validate.shape)\n",
    "import tensorflow as tf\n",
    "split_index = int(0.8 * len(x_train))\n",
    "dataset_train = tf.data.Dataset.from_tensor_slices(\n",
    "    (x_train[:split_index], y_train[:split_index])\n",
    ").cache()\n",
    "dataset_validate = tf.data.Dataset.from_tensor_slices(\n",
    "    (x_train[split_index:], y_train[split_index:])\n",
    ").cache()\n",
    "\n",
    "dataset_test =tf.data.Dataset.from_tensor_slices((x_validate, y_validate))"
   ]
  },
  {
   "cell_type": "code",
   "execution_count": null,
   "metadata": {},
   "outputs": [],
   "source": [
    "import sys\n",
    "np.set_printoptions(threshold=sys.maxsize)\n",
    "x_train[48].shape"
   ]
  },
  {
   "cell_type": "code",
   "execution_count": null,
   "metadata": {},
   "outputs": [],
   "source": [
    "y_train.sum(axis=0)"
   ]
  },
  {
   "cell_type": "code",
   "execution_count": null,
   "metadata": {},
   "outputs": [],
   "source": [
    "(data_x, data_y), (data_validate, data_validate_y) =pickle.load(open(\"dataset_encoded.p\", \"rb\"))"
   ]
  },
  {
   "cell_type": "code",
   "execution_count": null,
   "metadata": {},
   "outputs": [],
   "source": [
    "data = np.concatenate((data_y[0], data_y[1]), axis=1) "
   ]
  },
  {
   "cell_type": "code",
   "execution_count": null,
   "metadata": {},
   "outputs": [],
   "source": [
    "dataset_train"
   ]
  },
  {
   "cell_type": "code",
   "execution_count": null,
   "metadata": {},
   "outputs": [],
   "source": [
    "model = models.Sequential()\n",
    "model.add(layers.Flatten(input_shape=(64,80,1)))\n",
    "#model.add(layers.LSTM(320 , input_shape=(64,80)))\n",
    "#model.add(layers.Dense(320 , activation='tanh', kernel_regularizer=regularizers.l2(0.01)))\n",
    "#model.add(layers.Dense(120 , activation='relu', kernel_regularizer=regularizers.l2(0.01)))\n",
    "#model.add(layers.Dense(80, activation='softmax', kernel_regularizer=regularizers.l2(0.01)))\n",
    "#model.add(layers.Dense(320 , activation='tanh', kernel_regularizer=regularizers.l2(0.01)))\n",
    "model.add(layers.Dense(120 , activation='relu', kernel_regularizer=regularizers.l2(0.01)))\n",
    "model.add(layers.Dense(80, activation='softmax', kernel_regularizer=regularizers.l2(0.01)))\n",
    "model.summary()\n",
    "\n",
    "model.compile(optimizer=optimizers.Nadam(learning_rate=0.0005),\n",
    "              loss='categorical_crossentropy',\n",
    "              metrics=['accuracy'])\n",
    "\n"
   ]
  },
  {
   "cell_type": "code",
   "execution_count": null,
   "metadata": {},
   "outputs": [],
   "source": [
    "history = model.fit(\n",
    "    dataset_train.shuffle(10000).batch(32), # pipeline; batch - too high - memory will explode and overfitting; too low - slow\n",
    "    epochs=10,\n",
    "    validation_data=dataset_validate.batch(32))"
   ]
  },
  {
   "cell_type": "code",
   "execution_count": null,
   "metadata": {},
   "outputs": [],
   "source": [
    "plt.plot(history.history[\"loss\"], label=['loss'])\n",
    "plt.plot(history.history[\"val_loss\"], label=['val_loss'])\n",
    "plt.legend()\n",
    "plt.show()\n",
    "plt.close()\n",
    "\n",
    "\n",
    "plt.plot(history.history[\"accuracy\"], label=['accuracy'])\n",
    "plt.plot(history.history[\"val_accuracy\"], label=['val_accuracy'])\n",
    "plt.legend()\n",
    "plt.show()\n",
    "plt.close()"
   ]
  },
  {
   "cell_type": "code",
   "execution_count": null,
   "metadata": {},
   "outputs": [],
   "source": [
    "import random\n",
    "import numpy as np\n",
    "def generate(model, seed, temperature, generated_sequence_length):\n",
    "    \n",
    "    input_sequence = list(seed)\n",
    "    # Generate the sequence by repeatedly predicting.\n",
    "    generated_sequence = []\n",
    "    while len(generated_sequence) < generated_sequence_length:\n",
    "        prediction = model.predict(np.array([seed]))\n",
    "        predicted_index = get_index_from_prediction(prediction[0], temperature)\n",
    "        generated_sequence.append(predicted_index)\n",
    "        input_sequence = input_sequence[1:]\n",
    "        input_sequence.append(prediction[0])\n",
    "    # Convert the generated sequence to a string.\n",
    "    return [np.argmax(x) for x in seed] + list(generated_sequence)\n",
    "\n",
    "def get_index_from_prediction(prediction, temperature=0.0):\n",
    "    \"\"\" Gets an index from a prediction. \"\"\"\n",
    "    # Zero temperature - use the argmax.\n",
    "    if temperature == 0.0:\n",
    "        return np.argmax(prediction)\n",
    "    # Non-zero temperature - do some random magic.\n",
    "    else:\n",
    "        prediction = np.asarray(prediction).astype('float64')\n",
    "        prediction = np.log(prediction) / temperature\n",
    "        exp_prediction= np.exp(prediction)\n",
    "        prediction = exp_prediction / np.sum(exp_prediction)\n",
    "        probabilities = np.random.multinomial(1, prediction, 1)\n",
    "        return np.argmax(probabilities)\n",
    "random_index = random.randint(0, len(x_train))\n",
    "random_index = 0\n",
    "seed = x_train[random_index]\n",
    "generated_sequence = generate(model, seed=seed, temperature=1.0, generated_sequence_length=200)\n",
    "plt.plot(generated_sequence)\n",
    "plt.show()\n",
    "plt.close()"
   ]
  },
  {
   "cell_type": "code",
   "execution_count": null,
   "metadata": {},
   "outputs": [],
   "source": [
    "import note_seq\n",
    "def play(sequence):\n",
    "    note_sequence = note_seq.protobuf.music_pb2.NoteSequence()\n",
    "    note_sequence.tempos.add().qpm = 120.0\n",
    "    note_sequence.ticks_per_quarter = note_seq.constants.STANDARD_PPQ\n",
    "    note_sequence.total_time = 0.0\n",
    "    time = 0.0\n",
    "    sixteenth_length = 2.0 / 16.0\n",
    "    pitch = None\n",
    "    start_time = None\n",
    "    for n in sequence:\n",
    "        if n < 4 and pitch is None:\n",
    "            continue\n",
    "        elif n < 4 and pitch != None:\n",
    "            note = note_seq.protobuf.music_pb2.NoteSequence.Note()\n",
    "            note.pitch = pitch + 24\n",
    "            note.velocity = 100\n",
    "            note.start_time = start_time\n",
    "            note.end_time = time\n",
    "            note_sequence.notes.append(note)\n",
    "            pitch = None\n",
    "            start_time = None\n",
    "        elif n >= 4 and pitch != None:\n",
    "            note = note_seq.protobuf.music_pb2.NoteSequence.Note()\n",
    "            note.pitch = pitch + 24\n",
    "            note.velocity = 100\n",
    "            note.start_time = start_time\n",
    "            note.end_time = time\n",
    "            note_sequence.notes.append(note)\n",
    "            pitch = n\n",
    "            start_time = time\n",
    "        elif n >= 4 and pitch is None:\n",
    "            pitch = n\n",
    "            start_time = time\n",
    "        else:\n",
    "            assert False\n",
    "        time += sixteenth_length\n",
    "    note_seq.plot_sequence(note_sequence)\n",
    "    note_seq.play_sequence(note_sequence, synth=note_seq.fluidsynth)\n",
    "play(generated_sequence)"
   ]
  },
  {
   "cell_type": "code",
   "execution_count": null,
   "metadata": {},
   "outputs": [],
   "source": []
  }
 ],
 "metadata": {
  "kernelspec": {
   "display_name": "Python 3",
   "language": "python",
   "name": "python3"
  },
  "language_info": {
   "codemirror_mode": {
    "name": "ipython",
    "version": 3
   },
   "file_extension": ".py",
   "mimetype": "text/x-python",
   "name": "python",
   "nbconvert_exporter": "python",
   "pygments_lexer": "ipython3",
   "version": "3.8.5"
  }
 },
 "nbformat": 4,
 "nbformat_minor": 4
}
