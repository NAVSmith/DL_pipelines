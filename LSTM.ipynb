{
 "cells": [
  {
   "cell_type": "code",
   "execution_count": 1,
   "metadata": {},
   "outputs": [],
   "source": [
    "import tensorflow as tf\n",
    "import numpy as np\n",
    "import matplotlib.pyplot as plt\n",
    "\n",
    "\n",
    "from tensorflow.keras.datasets import imdb\n",
    "from tensorflow.keras import preprocessing\n",
    "from tensorflow.keras.utils import to_categorical\n",
    "from tensorflow.keras import models, layers"
   ]
  },
  {
   "cell_type": "code",
   "execution_count": 2,
   "metadata": {},
   "outputs": [
    {
     "name": "stderr",
     "output_type": "stream",
     "text": [
      "/Users/iskriyanavasileva/opt/anaconda3/envs/dsr/lib/python3.6/site-packages/tensorflow/python/keras/datasets/imdb.py:155: VisibleDeprecationWarning: Creating an ndarray from ragged nested sequences (which is a list-or-tuple of lists-or-tuples-or ndarrays with different lengths or shapes) is deprecated. If you meant to do this, you must specify 'dtype=object' when creating the ndarray\n",
      "  x_train, y_train = np.array(xs[:idx]), np.array(labels[:idx])\n",
      "/Users/iskriyanavasileva/opt/anaconda3/envs/dsr/lib/python3.6/site-packages/tensorflow/python/keras/datasets/imdb.py:156: VisibleDeprecationWarning: Creating an ndarray from ragged nested sequences (which is a list-or-tuple of lists-or-tuples-or ndarrays with different lengths or shapes) is deprecated. If you meant to do this, you must specify 'dtype=object' when creating the ndarray\n",
      "  x_test, y_test = np.array(xs[idx:]), np.array(labels[idx:])\n"
     ]
    }
   ],
   "source": [
    "vocabulary_size = 20000 # my unique words\n",
    "sequence_length = 90 # hyperparameter - we take 20 words \n",
    "\n",
    "(x_train, y_train), (x_test, y_test) = imdb.load_data(num_words=vocabulary_size)\n",
    "\n",
    "\n",
    "\n",
    "x_train = preprocessing.sequence.pad_sequences(x_train, maxlen=sequence_length)\n",
    "x_test = preprocessing.sequence.pad_sequences(x_train, maxlen=sequence_length)\n",
    "\n",
    "\n",
    "split_index = int(0.8 * len(x_train))\n",
    "imdb_train = tf.data.Dataset.from_tensor_slices(\n",
    "    (x_train[:split_index], y_train[:split_index])\n",
    "\n",
    ").cache()\n",
    "\n",
    "imdb_validate = tf.data.Dataset.from_tensor_slices(\n",
    "    (x_train[split_index:], y_train[split_index:])\n",
    "\n",
    ").cache()\n",
    "\n",
    "\n",
    "imdb_test = tf.data.Dataset.from_tensor_slices(\n",
    "    (x_test, y_test)\n",
    ").cache()"
   ]
  },
  {
   "cell_type": "code",
   "execution_count": 3,
   "metadata": {},
   "outputs": [
    {
     "name": "stdout",
     "output_type": "stream",
     "text": [
      "Model: \"sequential\"\n",
      "_________________________________________________________________\n",
      "Layer (type)                 Output Shape              Param #   \n",
      "=================================================================\n",
      "embedding (Embedding)        (None, 90, 8)             160000    \n",
      "_________________________________________________________________\n",
      "conv1d (Conv1D)              (None, 86, 250)           10250     \n",
      "_________________________________________________________________\n",
      "dropout (Dropout)            (None, 86, 250)           0         \n",
      "_________________________________________________________________\n",
      "global_max_pooling1d (Global (None, 250)               0         \n",
      "_________________________________________________________________\n",
      "dropout_1 (Dropout)          (None, 250)               0         \n",
      "_________________________________________________________________\n",
      "dense (Dense)                (None, 1)                 251       \n",
      "=================================================================\n",
      "Total params: 170,501\n",
      "Trainable params: 170,501\n",
      "Non-trainable params: 0\n",
      "_________________________________________________________________\n",
      "Epoch 1/10\n",
      "625/625 [==============================] - 6s 10ms/step - loss: 0.5322 - accuracy: 0.7066 - val_loss: 0.4193 - val_accuracy: 0.8092\n",
      "Epoch 2/10\n",
      "625/625 [==============================] - 7s 11ms/step - loss: 0.3308 - accuracy: 0.8579 - val_loss: 0.3603 - val_accuracy: 0.8432\n",
      "Epoch 3/10\n",
      "625/625 [==============================] - 6s 9ms/step - loss: 0.2221 - accuracy: 0.9136 - val_loss: 0.3710 - val_accuracy: 0.8348\n",
      "Epoch 4/10\n",
      "625/625 [==============================] - 6s 9ms/step - loss: 0.1405 - accuracy: 0.9492 - val_loss: 0.4178 - val_accuracy: 0.8284\n",
      "Epoch 5/10\n",
      "625/625 [==============================] - 6s 10ms/step - loss: 0.0806 - accuracy: 0.9747 - val_loss: 0.4862 - val_accuracy: 0.8166\n",
      "Epoch 6/10\n",
      "625/625 [==============================] - 6s 9ms/step - loss: 0.0435 - accuracy: 0.9883 - val_loss: 0.5617 - val_accuracy: 0.8164\n",
      "Epoch 7/10\n",
      "625/625 [==============================] - 6s 9ms/step - loss: 0.0240 - accuracy: 0.9941 - val_loss: 0.6345 - val_accuracy: 0.8118\n",
      "Epoch 8/10\n",
      "625/625 [==============================] - 6s 9ms/step - loss: 0.0130 - accuracy: 0.9974 - val_loss: 0.7060 - val_accuracy: 0.8082\n",
      "Epoch 9/10\n",
      "625/625 [==============================] - 6s 9ms/step - loss: 0.0071 - accuracy: 0.9986 - val_loss: 0.7749 - val_accuracy: 0.8060\n",
      "Epoch 10/10\n",
      "625/625 [==============================] - 6s 9ms/step - loss: 0.0048 - accuracy: 0.9991 - val_loss: 0.8478 - val_accuracy: 0.8024\n"
     ]
    }
   ],
   "source": [
    "embedding_size = 8 \n",
    "\n",
    "\n",
    "model = models.Sequential()\n",
    "\n",
    "#1st feature extraction\n",
    "model.add(layers.Embedding(\n",
    "    vocabulary_size,\n",
    "    embedding_size,\n",
    "    input_length=sequence_length\n",
    "))\n",
    "\n",
    "#2nd feature extraction\n",
    "model.add(layers.Conv1D(\n",
    "    250, # kernel size = to extract that many features. We don't know what they are, as they come from something trained\n",
    "    5, # filter - how many words to look at the same time to extract something; my window size\n",
    "    padding=\"valid\", # valid - I take only existing points; # same - it will overlap the boarders \n",
    "    activation=\"relu\",\n",
    "    strides=1 # hop length, how much do I move forward\n",
    "))\n",
    "model.add(layers.Dropout(0.25))\n",
    "model.add(layers.GlobalMaxPooling1D()) # global = 1 dimension globally, 1 stride\n",
    "model.add(layers.Dropout(0.25))\n",
    "model.add(layers.Dense(1, activation=\"sigmoid\")) # mapping the inputs to the outputs \n",
    "                                                #(before that latent space, because we did not have 250 features)\n",
    "\n",
    "\n",
    "model.summary()\n",
    "\n",
    "model.compile(\n",
    "    optimizer=\"adam\",\n",
    "    loss=\"binary_crossentropy\",\n",
    "    metrics=[\"accuracy\"] \n",
    ")\n",
    "\n",
    "history = model.fit(\n",
    "    imdb_train.shuffle(10000).batch(32), # pipeline; batch - too high - memory will explode and overfitting; too low - slow\n",
    "    epochs=10,\n",
    "    validation_data=imdb_validate.batch(32)\n",
    ")"
   ]
  },
  {
   "cell_type": "code",
   "execution_count": 4,
   "metadata": {},
   "outputs": [
    {
     "data": {
      "image/png": "[encoded data removed]",
      "text/plain": [
       "<Figure size 432x288 with 1 Axes>"
      ]
     },
     "metadata": {
      "needs_background": "light"
     },
     "output_type": "display_data"
    },
    {
     "data": {
      "image/png": "[encoded data removed]",
      "text/plain": [
       "<Figure size 432x288 with 1 Axes>"
      ]
     },
     "metadata": {
      "needs_background": "light"
     },
     "output_type": "display_data"
    }
   ],
   "source": [
    "plt.plot(history.history[\"loss\"], label=['loss'])\n",
    "plt.plot(history.history[\"val_loss\"], label=['val_loss'])\n",
    "plt.legend()\n",
    "plt.show()\n",
    "plt.close()\n",
    "\n",
    "\n",
    "plt.plot(history.history[\"accuracy\"], label=['accuracy'])\n",
    "plt.plot(history.history[\"val_accuracy\"], label=['val_accuracy'])\n",
    "plt.legend()\n",
    "plt.show()\n",
    "plt.close()"
   ]
  },
  {
   "cell_type": "code",
   "execution_count": null,
   "metadata": {},
   "outputs": [],
   "source": []
  }
 ],
 "metadata": {
  "kernelspec": {
   "display_name": "Python 3",
   "language": "python",
   "name": "python3"
  },
  "language_info": {
   "codemirror_mode": {
    "name": "ipython",
    "version": 3
   },
   "file_extension": ".py",
   "mimetype": "text/x-python",
   "name": "python",
   "nbconvert_exporter": "python",
   "pygments_lexer": "ipython3",
   "version": "3.8.5"
  }
 },
 "nbformat": 4,
 "nbformat_minor": 4
}
